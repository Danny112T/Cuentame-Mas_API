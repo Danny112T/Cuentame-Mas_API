{
 "cells": [
  {
   "cell_type": "markdown",
   "id": "1055c3f3",
   "metadata": {},
   "source": [
    "### LoRA Fine-Tuning with MLX LM\n",
    "\n",
    "In this notebook, we'll walk through how to [LoRA fine-tune](https://arxiv.org/abs/2106.09685) an LLM with MLX LM. We'll use the [HellaSwag](https://rowanzellers.com/hellaswag/) dataset for common sense reasoning as an example. An outline:\n",
    "\n",
    "1. Download the dataset and prepare it in the right format for MLX LM.\n",
    "2. Setup and run LoRA training. We'll show how to capture the training logs and plot some statistics to visualize the performance.\n",
    "3. Evaluate on the test set. We'll compute the final question-answer accuracy of the fine-tuned model.\n",
    "4. Fuse the resulting adapters into the base model and upload to Hugging Face.\n",
    "5. Discuss tips for debugging accuracy and efficiency."
   ]
  },
  {
   "cell_type": "markdown",
   "id": "21397627",
   "metadata": {},
   "source": [
    "### Install dependencies"
   ]
  },
  {
   "cell_type": "code",
   "execution_count": 2,
   "id": "664272fb",
   "metadata": {
    "scrolled": true
   },
   "outputs": [],
   "source": [
    "# pip install mlx-lm\n",
    "# pip install matplotlib\n",
    "# pip install rouge-score\n",
    "# pip install scikit-learn\n",
    "# pip install tqdm\n",
    "# pip install numpy\n",
    "# pip install json\n",
    "# pip install pathlib\n",
    "# pip install transformers\n",
    "# pip install sentencepiece\n",
    "# pip install datasets\n",
    "# pip install torch\n",
    "# pip install mlflow"
   ]
  },
  {
   "cell_type": "markdown",
   "id": "a1131315",
   "metadata": {},
   "source": [
    "### MLFOW CONFIG"
   ]
  },
  {
   "cell_type": "code",
   "execution_count": null,
   "id": "4d1cf602",
   "metadata": {},
   "outputs": [],
   "source": [
    "import mlflow\n",
    "mlflow.end_run()"
   ]
  },
  {
   "cell_type": "code",
   "execution_count": null,
   "id": "1d438bc6",
   "metadata": {},
   "outputs": [],
   "source": [
    "exp_name=\"MLX1.0\"\n",
    "\n",
    "# base_model = \"Llama-3.2-1B-Instruct\"\n",
    "# four_bits = True \n",
    "# dataset_path = \"FAQ_All.jsonl\"\n",
    "# dataset_type = \"alpaca_chat.load_qa\"\n",
    "output_dir = \"../trained_models/adapters/adapters.safetensors\"\n",
    "sequence_len = 2048\n",
    "lora_layers = 16\n",
    "lora_layers_scale = 16.0\n",
    "grad_checkpoint_value = True\n",
    "\n",
    "epochs = 13\n",
    "steps = 600\n",
    "lora_r = 64\n",
    "# lora_alpha = 16\n",
    "lora_dropout = 0.01\n",
    "# gradient_accumulation_steps = 4\n",
    "batch_size = 8\n",
    "optimizer = \"adamw\"\n",
    "learning_rate_value = 2e-6\n",
    "weight_decay_value = 0.02\n",
    "lr_scheduler = \"linear\""
   ]
  },
  {
   "cell_type": "code",
   "execution_count": null,
   "id": "0c0069b0",
   "metadata": {},
   "outputs": [],
   "source": [
    "mlflow.set_tracking_uri(\"https://35vh82lm-5000.usw3.devtunnels.ms/\")\n",
    "mlflow.set_experiment(experiment_name=exp_name)\n",
    "\n",
    "with mlflow.start_run(run_name=\"Hiperparametros FT MLX\"):\n",
    "    mlflow.log_param(\"num_train_epoch\", epochs)\n",
    "    mlflow.log_param(\"max_steps\", steps)\n",
    "    # mlflow.log_param(\"lora_alpha\", lora_alpha)\n",
    "    mlflow.log_param(\"lora_r\", lora_r)\n",
    "    mlflow.log_param(\"lora_dropout\", lora_dropout)\n",
    "    mlflow.log_param(\"lora_layers\", lora_layers)\n",
    "    mlflow.log_param(\"lora_layers_scale\",lora_layers_scale)\n",
    "    #mlflow.log_param(\"gradient_accumulation_steps\", gradient_accumulation_steps)\n",
    "    mlflow.log_param(\"batch_size\", batch_size)\n",
    "    mlflow.log_param(\"optimizer\", optimizer)\n",
    "    mlflow.log_param(\"learning_rate\", learning_rate_value)\n",
    "    mlflow.log_param(\"weight_decay\", weight_decay_value)\n",
    "    mlflow.log_param(\"scheduler\", lr_scheduler)"
   ]
  },
  {
   "cell_type": "markdown",
   "id": "dd27c693",
   "metadata": {},
   "source": [
    "### Preprocess Data\n",
    "We'll start by downloading an already pre-processed version of the HellaSwag dataset from [LLM-Adapters](https://github.com/AGI-Edgerunners/LLM-Adapters)."
   ]
  },
  {
   "cell_type": "code",
   "execution_count": 3,
   "id": "61698208",
   "metadata": {},
   "outputs": [
    {
     "name": "stdout",
     "output_type": "stream",
     "text": [
      "Hello stats: 512 lenght trainging dataset\n",
      "An example:\n",
      "\n",
      "{\n",
      "  \"question\": \"\\u00bfPuedo presentar p\\u00f3liza de fianza en formato electr\\u00f3nico?\",\n",
      "  \"answer\": \"S\\u00ed, es v\\u00e1lido este tipo de garant\\u00eda.\"\n",
      "}\n"
     ]
    }
   ],
   "source": [
    "import json\n",
    "import numpy as np\n",
    "from pathlib import Path\n",
    "\n",
    "\n",
    "save_path = \"./dataset/FAQ_All.jsonl\"\n",
    "\n",
    "with open(save_path, 'r') as file:\n",
    "\tdataset = [json.loads(line) for line in file]\n",
    "\n",
    "print(f\"Hello stats: {len(dataset)} lenght trainging dataset\")\n",
    "print(\"An example:\\n\")\n",
    "print(json.dumps(dataset[0], indent=2))"
   ]
  },
  {
   "cell_type": "markdown",
   "id": "9a514d79",
   "metadata": {},
   "source": [
    "Next, let's split the training set into a training and a validation set. We'll pull out a randomly chosen 10% for validation."
   ]
  },
  {
   "cell_type": "code",
   "execution_count": 4,
   "id": "9b607237",
   "metadata": {},
   "outputs": [],
   "source": [
    "# Seed for reproducibility\n",
    "np.random.seed(43)\n",
    "perm = np.random.permutation(len(dataset))\n",
    "valid_size = int(0.2 * len(dataset))\n",
    "valid_set = [dataset[i] for i in perm[:valid_size]]\n",
    "train_set = [dataset[i] for i in perm[valid_size:]]"
   ]
  },
  {
   "cell_type": "markdown",
   "id": "35c38c4e",
   "metadata": {},
   "source": [
    "Finally, put the data splits in the MLX LM training format. The format simply expects the data to be in a container which supports random access to the individual examples (e.g. a Python `list`):\n",
    "```\n",
    "[\"An example for the model.\", \"Another example for the model.\", ...]\n",
    "```\n",
    "For more details, see the [documentation on supported formats](https://github.com/ml-explore/mlx-examples/blob/main/llms/mlx_lm/LORA.md#Data)."
   ]
  },
  {
   "cell_type": "code",
   "execution_count": 5,
   "id": "ea738f2b",
   "metadata": {},
   "outputs": [],
   "source": [
    "def clean_text(text):\n",
    "    text = text.strip()\n",
    "    text = ' '.join(text.split())\n",
    "    return text\n",
    "\n",
    "def preprocess(dataset):\n",
    "    return [\n",
    "        f\"Question: {clean_text(t['question'])}\\n\"\n",
    "        f\"Answer: {clean_text(t['answer'])}\\n\"\n",
    "        for t in dataset\n",
    "    ]\n",
    "\n",
    "train_set, valid_set = map(preprocess, (train_set, valid_set))"
   ]
  },
  {
   "cell_type": "markdown",
   "id": "b259eb69",
   "metadata": {},
   "source": [
    "### Fine-Tune\n",
    "\n",
    "For fine-tuning, we'll use Microsoft's [Phi-3 mini](https://huggingface.co/microsoft/Phi-3-mini-4k-instruct). At 3.8 billion parameters, Phi-3 mini is a high-quality model that is also fast to fine-tune on most Apple silicon machines. Also, it has a [permissive MIT License](https://huggingface.co/microsoft/Phi-3-mini-4k-instruct/blob/main/LICENSE).\n",
    "\n",
    "First, import all the packages and functions we need."
   ]
  },
  {
   "cell_type": "code",
   "execution_count": 6,
   "id": "c3ff309a",
   "metadata": {},
   "outputs": [
    {
     "name": "stderr",
     "output_type": "stream",
     "text": [
      "/Users/danny/Docs/GitHub/Cuentame-Mas_API/.venv/lib/python3.12/site-packages/tqdm/auto.py:21: TqdmWarning: IProgress not found. Please update jupyter and ipywidgets. See https://ipywidgets.readthedocs.io/en/stable/user_install.html\n",
      "  from .autonotebook import tqdm as notebook_tqdm\n"
     ]
    }
   ],
   "source": [
    "import matplotlib.pyplot as plt\n",
    "import mlx.core as mx\n",
    "import mlx.optimizers as optim\n",
    "from mlx.utils import tree_flatten\n",
    "from mlx_lm.utils import load, generate\n",
    "from mlx_lm.tuner.trainer import train, evaluate, TrainingArgs\n",
    "from mlx_lm.tuner.utils import linear_to_lora_layers\n"
   ]
  },
  {
   "cell_type": "markdown",
   "id": "87628d24",
   "metadata": {},
   "source": [
    "Next, setup the LoRA parameters and make the training arguments. See the [training argument class](https://github.com/ml-explore/mlx-examples/blob/81318ad4a8b2ca5fd1431a42db2b0244d16be851/llms/mlx_lm/tuner/trainer.py#L31-L63) for a more detailed list of training parameters. \n",
    "\n",
    "Recall the LoRA update is $W^\\top \\mathbf{x} + c \\cdot \\mathbf{a} \\mathbf{b}^\\top \\mathbf{x}$ where $\\mathbf{a}$ has shape `(D, rank)`.\n",
    "\n",
    "With that in mind, the LoRA parameters to attend to are:\n",
    "- `lora_layers`: The number of Transformer blocks from the top of the model to adapt.\n",
    "- `rank`: The rank of the low-rank adapters. A larger rank implies more adapter parameters per linear layer.\n",
    "- `scale`: This is the constant $c$ that scales the low-rank update."
   ]
  },
  {
   "cell_type": "code",
   "execution_count": 12,
   "id": "f0851dc8",
   "metadata": {},
   "outputs": [],
   "source": [
    "# Make a directory to save the adapter config and weights\n",
    "adapter_path = Path(\"../trained_models/adapters\")\n",
    "adapter_path.mkdir(parents=True, exist_ok=True)\n",
    "\n",
    "lora_config = {\n",
    " \"lora_layers\": lora_layers,\n",
    " \"lora_parameters\": {\n",
    "    \"rank\": lora_r,\n",
    "    \"scale\": lora_layers_scale,\n",
    "    \"dropout\": lora_dropout,\n",
    "    \"epochs\": epochs\n",
    "}}\n",
    "\n",
    "# Save the LoRA config to the adapter path\n",
    "with open(adapter_path / \"adapter_config.json\", \"w\") as fid:\n",
    "    json.dump(lora_config, fid, indent=4)    \n",
    "\n",
    "training_args = TrainingArgs(\n",
    "    adapter_file=output_dir,\n",
    "    iters=steps,\n",
    "    steps_per_eval=50,\n",
    "    batch_size=batch_size,\n",
    "    max_seq_length=sequence_len,\n",
    "    grad_checkpoint=grad_checkpoint_value,\n",
    ")"
   ]
  },
  {
   "cell_type": "markdown",
   "id": "56fefd19",
   "metadata": {},
   "source": [
    "Next, load the Phi-3 mini model. Note this may take a few minutes to download from HuggingFace if you haven't downloaded it before."
   ]
  },
  {
   "cell_type": "code",
   "execution_count": 13,
   "id": "fb0b16f2",
   "metadata": {},
   "outputs": [],
   "source": [
    "model_path = \"../original_models/Llama-3.2-1B-Instruct-bf16\"\n",
    "model, tokenizer = load(model_path)"
   ]
  },
  {
   "cell_type": "markdown",
   "id": "6609c92a",
   "metadata": {},
   "source": [
    "After loading the model, freeze it's parameters so we don't train them. Then convert linear layers to LoRA layers using the MLX LM utility `linear_to_lora_layers`. The adapters in the `LoRA` layers are not frozen, so they will be included in the model's `trainable_parameters`. Check-out the [LoRA layer implementation](https://github.com/ml-explore/mlx-examples/blob/81318ad4a8b2ca5fd1431a42db2b0244d16be851/llms/mlx_lm/tuner/lora.py#L72-L104) to see how it all works.\n",
    "\n",
    "By default, MLX LM only adapts the query, key, and value projection matrices for Phi-3. You can specify the layers to adapt by setting `lora_parameters[\"keys\"]` to a list of layer names. In this case it defaults to `[\"attn.qkv_proj\"]`. "
   ]
  },
  {
   "cell_type": "code",
   "execution_count": 14,
   "id": "50e1ab3a",
   "metadata": {},
   "outputs": [
    {
     "name": "stdout",
     "output_type": "stream",
     "text": [
      "Number of trainable parameters: 6815744\n"
     ]
    }
   ],
   "source": [
    "# Freeze the base model\n",
    "model.freeze()\n",
    "\n",
    "# Convert linear layers to lora layers\n",
    "linear_to_lora_layers(model, lora_config[\"lora_layers\"], lora_config[\"lora_parameters\"])\n",
    "\n",
    "num_train_params = (\n",
    "    sum(v.size for _, v in tree_flatten(model.trainable_parameters()))\n",
    ")\n",
    "print(f\"Number of trainable parameters: {num_train_params}\")"
   ]
  },
  {
   "cell_type": "markdown",
   "id": "827d1590",
   "metadata": {},
   "source": [
    "Now we're ready to put it all together and actually train the model. We'll use `Adam` for the optimizer, but you can specify any [optimizer](https://ml-explore.github.io/mlx/build/html/python/optimizers/common_optimizers.html) with any [scheduler](https://ml-explore.github.io/mlx/build/html/python/optimizers/schedulers.html). We also added a custom class to capture the training and validation loss to plot it later."
   ]
  },
  {
   "cell_type": "code",
   "execution_count": 19,
   "id": "984516d3",
   "metadata": {
    "scrolled": true
   },
   "outputs": [
    {
     "name": "stdout",
     "output_type": "stream",
     "text": [
      "Starting training..., iters: 600\n",
      "Iter 1: Val loss 2.076, Val took 13.780s\n",
      "Iter 10: Train loss 1.335, Learning Rate 2.000e-05, It/sec 0.631, Tokens/sec 414.487, Trained Tokens 6569, Peak mem 22.604 GB\n",
      "Iter 20: Train loss 1.404, Learning Rate 2.000e-05, It/sec 0.229, Tokens/sec 153.356, Trained Tokens 13272, Peak mem 22.604 GB\n",
      "Iter 30: Train loss 1.460, Learning Rate 2.000e-05, It/sec 0.468, Tokens/sec 321.140, Trained Tokens 20133, Peak mem 22.604 GB\n",
      "Iter 40: Train loss 1.537, Learning Rate 2.000e-05, It/sec 0.117, Tokens/sec 114.821, Trained Tokens 29930, Peak mem 22.655 GB\n",
      "Iter 50: Val loss 2.003, Val took 9.554s\n",
      "Iter 50: Train loss 1.369, Learning Rate 2.000e-05, It/sec 4.564, Tokens/sec 2790.953, Trained Tokens 36045, Peak mem 22.655 GB\n",
      "Iter 60: Train loss 1.071, Learning Rate 2.000e-05, It/sec 0.531, Tokens/sec 336.486, Trained Tokens 42377, Peak mem 22.655 GB\n",
      "Iter 70: Train loss 0.898, Learning Rate 2.000e-05, It/sec 0.716, Tokens/sec 353.973, Trained Tokens 47321, Peak mem 22.655 GB\n",
      "Iter 80: Train loss 0.982, Learning Rate 2.000e-05, It/sec 0.388, Tokens/sec 296.959, Trained Tokens 54970, Peak mem 22.655 GB\n",
      "Iter 90: Train loss 1.072, Learning Rate 2.000e-05, It/sec 0.322, Tokens/sec 208.917, Trained Tokens 61453, Peak mem 22.655 GB\n",
      "Iter 100: Val loss 2.020, Val took 6.551s\n",
      "Iter 100: Train loss 1.086, Learning Rate 2.000e-05, It/sec 0.534, Tokens/sec 492.374, Trained Tokens 70671, Peak mem 22.655 GB\n",
      "Iter 100: Saved adapter weights to ../trained_models/adapters/adapters.safetensors and ../trained_models/adapters/0000100_adapters.safetensors.\n",
      "Iter 110: Train loss 0.865, Learning Rate 2.000e-05, It/sec 0.375, Tokens/sec 307.194, Trained Tokens 78872, Peak mem 22.655 GB\n",
      "Iter 120: Train loss 0.738, Learning Rate 2.000e-05, It/sec 0.540, Tokens/sec 374.311, Trained Tokens 85806, Peak mem 22.655 GB\n",
      "Iter 130: Train loss 0.649, Learning Rate 2.000e-05, It/sec 0.657, Tokens/sec 361.871, Trained Tokens 91317, Peak mem 22.655 GB\n",
      "Iter 140: Train loss 0.847, Learning Rate 2.000e-05, It/sec 0.355, Tokens/sec 275.173, Trained Tokens 99063, Peak mem 22.655 GB\n",
      "Iter 150: Val loss 2.084, Val took 6.536s\n",
      "Iter 150: Train loss 0.910, Learning Rate 2.000e-05, It/sec 3.765, Tokens/sec 3594.117, Trained Tokens 108609, Peak mem 22.655 GB\n",
      "Iter 160: Train loss 0.430, Learning Rate 2.000e-05, It/sec 0.970, Tokens/sec 421.696, Trained Tokens 112956, Peak mem 22.655 GB\n",
      "Iter 170: Train loss 0.587, Learning Rate 2.000e-05, It/sec 0.313, Tokens/sec 241.202, Trained Tokens 120650, Peak mem 22.655 GB\n",
      "Iter 180: Train loss 0.633, Learning Rate 2.000e-05, It/sec 0.522, Tokens/sec 338.789, Trained Tokens 127137, Peak mem 22.655 GB\n",
      "Iter 190: Train loss 0.627, Learning Rate 2.000e-05, It/sec 0.529, Tokens/sec 415.058, Trained Tokens 134980, Peak mem 22.655 GB\n",
      "Iter 200: Val loss 2.225, Val took 9.502s\n",
      "Iter 200: Train loss 0.498, Learning Rate 2.000e-05, It/sec 7.955, Tokens/sec 4492.403, Trained Tokens 140627, Peak mem 22.655 GB\n",
      "Iter 200: Saved adapter weights to ../trained_models/adapters/adapters.safetensors and ../trained_models/adapters/0000200_adapters.safetensors.\n",
      "Iter 210: Train loss 0.508, Learning Rate 2.000e-05, It/sec 0.135, Tokens/sec 102.474, Trained Tokens 148211, Peak mem 22.655 GB\n",
      "Iter 220: Train loss 0.521, Learning Rate 2.000e-05, It/sec 0.406, Tokens/sec 343.129, Trained Tokens 156662, Peak mem 22.655 GB\n",
      "Iter 230: Train loss 0.480, Learning Rate 2.000e-05, It/sec 0.471, Tokens/sec 384.355, Trained Tokens 164814, Peak mem 22.655 GB\n",
      "Iter 240: Train loss 0.361, Learning Rate 2.000e-05, It/sec 0.674, Tokens/sec 372.123, Trained Tokens 170338, Peak mem 22.655 GB\n",
      "Iter 250: Val loss 2.263, Val took 9.058s\n",
      "Iter 250: Train loss 0.517, Learning Rate 2.000e-05, It/sec 14.682, Tokens/sec 11910.076, Trained Tokens 178450, Peak mem 22.655 GB\n",
      "Iter 260: Train loss 0.406, Learning Rate 2.000e-05, It/sec 0.505, Tokens/sec 394.303, Trained Tokens 186260, Peak mem 22.655 GB\n",
      "Iter 270: Train loss 0.339, Learning Rate 2.000e-05, It/sec 0.351, Tokens/sec 248.844, Trained Tokens 193350, Peak mem 22.655 GB\n",
      "Iter 280: Train loss 0.269, Learning Rate 2.000e-05, It/sec 0.641, Tokens/sec 363.237, Trained Tokens 199016, Peak mem 22.655 GB\n",
      "Iter 290: Train loss 0.369, Learning Rate 2.000e-05, It/sec 0.348, Tokens/sec 220.391, Trained Tokens 205357, Peak mem 22.655 GB\n",
      "Iter 300: Val loss 2.406, Val took 9.212s\n",
      "Iter 300: Train loss 0.459, Learning Rate 2.000e-05, It/sec 2.348, Tokens/sec 2033.152, Trained Tokens 214015, Peak mem 22.655 GB\n",
      "Iter 300: Saved adapter weights to ../trained_models/adapters/adapters.safetensors and ../trained_models/adapters/0000300_adapters.safetensors.\n",
      "Iter 310: Train loss 0.390, Learning Rate 2.000e-05, It/sec 0.514, Tokens/sec 368.734, Trained Tokens 221184, Peak mem 22.655 GB\n",
      "Iter 320: Train loss 0.419, Learning Rate 2.000e-05, It/sec 0.159, Tokens/sec 163.648, Trained Tokens 231464, Peak mem 22.655 GB\n",
      "Iter 330: Train loss 0.297, Learning Rate 2.000e-05, It/sec 0.363, Tokens/sec 245.081, Trained Tokens 238215, Peak mem 22.655 GB\n",
      "Iter 340: Train loss 0.246, Learning Rate 2.000e-05, It/sec 0.634, Tokens/sec 413.748, Trained Tokens 244740, Peak mem 22.655 GB\n",
      "Iter 350: Val loss 2.450, Val took 8.382s\n",
      "Iter 350: Train loss 0.311, Learning Rate 2.000e-05, It/sec 2.694, Tokens/sec 1624.691, Trained Tokens 250770, Peak mem 22.655 GB\n",
      "Iter 360: Train loss 0.292, Learning Rate 2.000e-05, It/sec 0.444, Tokens/sec 363.330, Trained Tokens 258960, Peak mem 22.655 GB\n",
      "Iter 370: Train loss 0.211, Learning Rate 2.000e-05, It/sec 0.838, Tokens/sec 401.870, Trained Tokens 263757, Peak mem 22.655 GB\n",
      "Iter 380: Train loss 0.215, Learning Rate 2.000e-05, It/sec 0.595, Tokens/sec 378.464, Trained Tokens 270123, Peak mem 22.655 GB\n",
      "Iter 390: Train loss 0.266, Learning Rate 2.000e-05, It/sec 0.249, Tokens/sec 192.290, Trained Tokens 277858, Peak mem 22.655 GB\n",
      "Iter 400: Val loss 2.495, Val took 7.599s\n",
      "Iter 400: Train loss 0.374, Learning Rate 2.000e-05, It/sec 18.253, Tokens/sec 17428.340, Trained Tokens 287406, Peak mem 22.655 GB\n",
      "Iter 400: Saved adapter weights to ../trained_models/adapters/adapters.safetensors and ../trained_models/adapters/0000400_adapters.safetensors.\n",
      "Iter 410: Train loss 0.217, Learning Rate 2.000e-05, It/sec 0.824, Tokens/sec 452.143, Trained Tokens 292891, Peak mem 22.655 GB\n",
      "Iter 420: Train loss 0.258, Learning Rate 2.000e-05, It/sec 0.424, Tokens/sec 371.263, Trained Tokens 301646, Peak mem 22.655 GB\n",
      "Iter 430: Train loss 0.194, Learning Rate 2.000e-05, It/sec 0.343, Tokens/sec 210.426, Trained Tokens 307782, Peak mem 22.655 GB\n",
      "Iter 440: Train loss 0.226, Learning Rate 2.000e-05, It/sec 0.570, Tokens/sec 371.786, Trained Tokens 314307, Peak mem 22.655 GB\n",
      "Iter 450: Val loss 2.597, Val took 7.351s\n",
      "Iter 450: Train loss 0.299, Learning Rate 2.000e-05, It/sec 0.213, Tokens/sec 189.936, Trained Tokens 323209, Peak mem 22.655 GB\n",
      "Iter 460: Train loss 0.222, Learning Rate 2.000e-05, It/sec 0.676, Tokens/sec 353.417, Trained Tokens 328437, Peak mem 22.655 GB\n",
      "Iter 470: Train loss 0.178, Learning Rate 2.000e-05, It/sec 0.381, Tokens/sec 228.201, Trained Tokens 334430, Peak mem 22.655 GB\n",
      "Iter 480: Train loss 0.196, Learning Rate 2.000e-05, It/sec 0.574, Tokens/sec 366.819, Trained Tokens 340824, Peak mem 22.655 GB\n",
      "Iter 490: Train loss 0.239, Learning Rate 2.000e-05, It/sec 0.445, Tokens/sec 386.082, Trained Tokens 349495, Peak mem 22.655 GB\n",
      "Iter 500: Val loss 2.638, Val took 6.721s\n",
      "Iter 500: Train loss 0.286, Learning Rate 2.000e-05, It/sec 2.855, Tokens/sec 2739.502, Trained Tokens 359092, Peak mem 22.655 GB\n",
      "Iter 500: Saved adapter weights to ../trained_models/adapters/adapters.safetensors and ../trained_models/adapters/0000500_adapters.safetensors.\n",
      "Iter 510: Train loss 0.204, Learning Rate 2.000e-05, It/sec 0.829, Tokens/sec 444.982, Trained Tokens 364460, Peak mem 22.655 GB\n",
      "Iter 520: Train loss 0.174, Learning Rate 2.000e-05, It/sec 0.556, Tokens/sec 363.564, Trained Tokens 371000, Peak mem 22.655 GB\n",
      "Iter 530: Train loss 0.207, Learning Rate 2.000e-05, It/sec 0.569, Tokens/sec 391.417, Trained Tokens 377875, Peak mem 22.655 GB\n",
      "Iter 540: Train loss 0.280, Learning Rate 2.000e-05, It/sec 0.107, Tokens/sec 96.505, Trained Tokens 386871, Peak mem 22.655 GB\n",
      "Iter 550: Val loss 2.715, Val took 11.883s\n",
      "Iter 550: Train loss 0.194, Learning Rate 2.000e-05, It/sec 2.572, Tokens/sec 1576.720, Trained Tokens 393002, Peak mem 22.655 GB\n",
      "Iter 560: Train loss 0.170, Learning Rate 2.000e-05, It/sec 0.550, Tokens/sec 383.938, Trained Tokens 399982, Peak mem 22.655 GB\n",
      "Iter 570: Train loss 0.230, Learning Rate 2.000e-05, It/sec 0.183, Tokens/sec 194.558, Trained Tokens 410615, Peak mem 22.655 GB\n",
      "Iter 580: Train loss 0.166, Learning Rate 2.000e-05, It/sec 0.644, Tokens/sec 437.216, Trained Tokens 417399, Peak mem 22.655 GB\n",
      "Iter 590: Train loss 0.153, Learning Rate 2.000e-05, It/sec 0.694, Tokens/sec 489.421, Trained Tokens 424448, Peak mem 22.655 GB\n",
      "Iter 600: Val loss 2.707, Val took 8.166s\n",
      "Iter 600: Train loss 0.197, Learning Rate 2.000e-05, It/sec 9.321, Tokens/sec 5112.719, Trained Tokens 429933, Peak mem 22.655 GB\n",
      "Iter 600: Saved adapter weights to ../trained_models/adapters/adapters.safetensors and ../trained_models/adapters/0000600_adapters.safetensors.\n",
      "Saved final adapter weights to ../trained_models/adapters/adapters.safetensors.\n"
     ]
    }
   ],
   "source": [
    "# Put the model in training mode:\n",
    "model.train()\n",
    "\n",
    "# Make the optimizer:\n",
    "if optimizer == \"adam\":\n",
    "    opt = optim.Adam(learning_rate=learning_rate_value)\n",
    "else:\n",
    "    opt = optim.AdamW(learning_rate=learning_rate_value, weight_decay=weight_decay_value)\n",
    "\n",
    "# Make a class to record the training stats:\n",
    "class Metrics:\n",
    "    train_losses = []\n",
    "    val_losses = []\n",
    "    val_accuracies = []\n",
    "\n",
    "    def on_train_loss_report(self, info):\n",
    "        self.train_losses.append((info[\"iteration\"], info[\"train_loss\"]))\n",
    "\n",
    "    def on_val_loss_report(self, info):\n",
    "        self.val_losses.append((info[\"iteration\"], info[\"val_loss\"]))\n",
    "        self.val_accuracies.append((info[\"iteration\"], info[\"val_loss\"]))\n",
    "\n",
    "metrics = Metrics()\n",
    "\n",
    "# Train model:\n",
    "train(\n",
    "    model=model,\n",
    "    tokenizer=tokenizer,\n",
    "    args=training_args,\n",
    "    optimizer=opt,\n",
    "    train_dataset=train_set,\n",
    "    val_dataset=valid_set,\n",
    "    training_callback=metrics,\n",
    ")"
   ]
  },
  {
   "cell_type": "markdown",
   "id": "b8d043b8",
   "metadata": {},
   "source": [
    "The adapters are saved every 100 iterations along with the final adapters in `adapters.safetensors`."
   ]
  },
  {
   "cell_type": "code",
   "execution_count": 20,
   "id": "ac329358",
   "metadata": {},
   "outputs": [
    {
     "name": "stderr",
     "output_type": "stream",
     "text": [
      "python(86353) MallocStackLogging: can't turn off malloc stack logging because it was not enabled.\n",
      "huggingface/tokenizers: The current process just got forked, after parallelism has already been used. Disabling parallelism to avoid deadlocks...\n",
      "To disable this warning, you can either:\n",
      "\t- Avoid using `tokenizers` before the fork if possible\n",
      "\t- Explicitly set the environment variable TOKENIZERS_PARALLELISM=(true | false)\n"
     ]
    },
    {
     "name": "stdout",
     "output_type": "stream",
     "text": [
      "0000100_adapters.safetensors 0000500_adapters.safetensors\n",
      "0000200_adapters.safetensors 0000600_adapters.safetensors\n",
      "0000300_adapters.safetensors adapter_config.json\n",
      "0000400_adapters.safetensors adapters.safetensors\n"
     ]
    }
   ],
   "source": [
    "!ls ../trained_models/adapters/"
   ]
  },
  {
   "cell_type": "markdown",
   "id": "2b7e23ee",
   "metadata": {},
   "source": [
    "Next, let's plot the training and validation losses to see how well the adapters fit the data."
   ]
  },
  {
   "cell_type": "code",
   "execution_count": 21,
   "id": "f1ffd638",
   "metadata": {},
   "outputs": [
    {
     "data": {
      "text/plain": [
       "<matplotlib.legend.Legend at 0x164f04710>"
      ]
     },
     "execution_count": 21,
     "metadata": {},
     "output_type": "execute_result"
    },
    {
     "data": {
      "image/png": "[encoded data removed]",
      "text/plain": [
       "<Figure size 640x480 with 1 Axes>"
      ]
     },
     "metadata": {},
     "output_type": "display_data"
    }
   ],
   "source": [
    "train_its, train_losses = zip(*metrics.train_losses)\n",
    "val_its, val_losses = zip(*metrics.val_losses)\n",
    "plt.plot(train_its, train_losses, '-o')\n",
    "plt.plot(val_its, val_losses, '-o')\n",
    "plt.xlabel(\"Iteration\")\n",
    "plt.ylabel(\"Loss\")\n",
    "plt.legend(['Train', \"Valid\"])"
   ]
  },
  {
   "cell_type": "markdown",
   "id": "b28f216c",
   "metadata": {},
   "source": [
    "### Evaluate\n",
    "\n",
    "The training and validation loss are only part of the story. For HellaSwag, we ultimately care about how good the model is at answering questions. To asses this, let's generate the actual `ending1`, `ending2`, `ending3`, or `ending4` responses with the fine-tuned model and measure the accuracy.\n",
    "\n",
    "First, let's split the last word off of each example in the test set to create a prompt without the answer."
   ]
  },
  {
   "cell_type": "code",
   "execution_count": 27,
   "id": "b03c1040",
   "metadata": {},
   "outputs": [
    {
     "name": "stdout",
     "output_type": "stream",
     "text": [
      "Evaluating model...\n"
     ]
    },
    {
     "name": "stderr",
     "output_type": "stream",
     "text": [
      "100%|██████████| 103/103 [03:12<00:00,  1.87s/it]"
     ]
    },
    {
     "name": "stdout",
     "output_type": "stream",
     "text": [
      "Results on 103 test samples:\n",
      "Accuracy: 0.019\n",
      "F1 Score: 0.038\n",
      "Perplexity: 4.603\n",
      "\n",
      "ROUGE Scores:\n",
      "rouge1: 0.303\n",
      "rouge2: 0.161\n",
      "rougeL: 0.247\n"
     ]
    },
    {
     "name": "stderr",
     "output_type": "stream",
     "text": [
      "\n"
     ]
    }
   ],
   "source": [
    "import mlx.core as mx\n",
    "import mlx.nn as nn\n",
    "import numpy as np\n",
    "from tqdm import tqdm\n",
    "from rouge_score import rouge_scorer\n",
    "\n",
    "def evaluate_model(model, tokenizer, dataset):\n",
    "    model.eval()\n",
    "    all_preds = []\n",
    "    all_labels = []\n",
    "    total_loss = 0.0\n",
    "\n",
    "    # Initialize ROUGE scorer\n",
    "    scorer = rouge_scorer.RougeScorer(['rouge1', 'rouge2', 'rougeL'], use_stemmer=True)\n",
    "    rouge_scores = {'rouge1': [], 'rouge2': [], 'rougeL': []}\n",
    "\n",
    "    # Adjust generation parameters\n",
    "    generation_params = {\n",
    "        \"max_tokens\": 100,\n",
    "        \"top_p\": 0.9,\n",
    "    }\n",
    "    \n",
    "    for example in tqdm(dataset):\n",
    "        # Get prompt and true answer\n",
    "        prompt = example[\"question\"]\n",
    "        true_answer = example[\"answer\"]\n",
    "        \n",
    "        # Generate prediction\n",
    "        response = generate(model, tokenizer, prompt, **generation_params)\n",
    "        \n",
    "        # Store prediction and true label\n",
    "        all_preds.append(response)\n",
    "        all_labels.append(true_answer)\n",
    "        \n",
    "        # Calculate ROUGE scores\n",
    "        scores = scorer.score(true_answer, response)\n",
    "        for key, score in scores.items():\n",
    "            rouge_scores[key].append(score.fmeasure)\n",
    "\n",
    "        # Calculate loss/perplexity\n",
    "        tokens = tokenizer.encode(prompt + true_answer)\n",
    "        tokens = mx.array(tokens)\n",
    "        \n",
    "        # Forward pass\n",
    "        logits = model(tokens[None])[0]\n",
    "        \n",
    "        # Calculate cross entropy loss\n",
    "        targets = tokens[1:]\n",
    "        logits = logits[:-1]\n",
    "        loss = mx.mean(nn.losses.cross_entropy(logits, targets))\n",
    "        total_loss += float(loss)\n",
    "\n",
    "    # Calculate metrics\n",
    "    accuracy = sum(1 for x,y in zip(all_preds, all_labels) if x.strip() == y.strip()) / len(all_preds)\n",
    "    \n",
    "    # Convert predictions and labels to match format for F1\n",
    "    pred_labels = [1 if p.strip() == l.strip() else 0 for p,l in zip(all_preds, all_labels)]\n",
    "    true_labels = [1] * len(all_labels)\n",
    "    f1 = f1_score(true_labels, pred_labels, average='binary')\n",
    "    \n",
    "    # Calculate average ROUGE scores\n",
    "    avg_rouge_scores = {key: np.mean(scores) for key, scores in rouge_scores.items()}\n",
    "\n",
    "    # Calculate perplexity\n",
    "    avg_loss = total_loss / len(dataset)\n",
    "    perplexity = float(mx.exp(mx.array(avg_loss)))\n",
    "\n",
    "    return accuracy, f1, perplexity, avg_rouge_scores\n",
    "\n",
    "# Load test dataset\n",
    "test_set_path = \"./dataset/All_validation.jsonl\" \n",
    "with open(test_set_path, 'r') as file:\n",
    "    test_set = [json.loads(line) for line in file]\n",
    "\n",
    "# Define number of test samples\n",
    "num_test = len(test_set)\n",
    "\n",
    "# Evaluate model\n",
    "print(\"Evaluating model...\")\n",
    "accuracy, f1, perplexity, rouge_scrs = evaluate_model(model, tokenizer, test_set[:num_test])\n",
    "\n",
    "print(f\"Results on {num_test} test samples:\")\n",
    "print(f\"Accuracy: {accuracy:.3f}\")\n",
    "print(f\"F1 Score: {f1:.3f}\") \n",
    "print(f\"Perplexity: {perplexity:.3f}\")\n",
    "print(\"\\nROUGE Scores:\")\n",
    "for key, score in rouge_scrs.items():\n",
    "    print(f\"{key}: {score:.3f}\")\n"
   ]
  },
  {
   "cell_type": "markdown",
   "id": "67fbba7f",
   "metadata": {},
   "source": [
    "### Fuse Adapters\n",
    "\n",
    "Sometimes its convenient to fuse the adapters into the base model to create a single adapted model. MLX LM has a fuse script just for that.\n",
    "\n",
    "The adapted weights are: $\\tilde{W} = W + c \\cdot \\mathbf{b}^\\top \\mathbf{a}$. Note, this process can be destructive if the inputs are in low precision and they have very different magnitudes. Tuning the `scale` parameter, $c$, prior to fine-tuning can improve the model performance after fusion.\n",
    "\n",
    "To see more options for fusing the model, including how to upload to HuggingFace [check the documentation](https://github.com/ml-explore/mlx-examples/blob/main/llms/mlx_lm/LORA.md#fuse)."
   ]
  },
  {
   "cell_type": "code",
   "execution_count": 37,
   "id": "37854c9b",
   "metadata": {},
   "outputs": [],
   "source": [
    "!mlx_lm.fuse --model {model_path}"
   ]
  },
  {
   "cell_type": "markdown",
   "id": "c349707e",
   "metadata": {},
   "source": [
    "Once the adapters are fused, we can rerun the evaluation using the fused model to make sure it worked. By default the fused model will be saved to `lora_fused_model`."
   ]
  },
  {
   "cell_type": "code",
   "execution_count": 36,
   "id": "c1c45e3a",
   "metadata": {},
   "outputs": [
    {
     "name": "stdout",
     "output_type": "stream",
     "text": [
      "Approximate test accuracy 0.750\n"
     ]
    }
   ],
   "source": [
    "model, tokenizer = load(\"lora_fused_model\")\n",
    "num_correct = 0\n",
    "for prompt, answer in tqdm.tqdm(test_set[:num_test]):\n",
    "    response = generate(model, tokenizer, prompt, max_tokens=2)\n",
    "    num_correct += (response==answer)\n",
    "test_acc = num_correct / num_test\n",
    "print(f\"Approximate test accuracy {test_acc:.3f}\")"
   ]
  },
  {
   "cell_type": "markdown",
   "id": "d0dc7f4c",
   "metadata": {},
   "source": [
    "### Troubleshooting\n",
    "\n",
    "#### Results\n",
    "\n",
    "To figure out why your LoRA adapters are not working well it's critical to plot both the trianing loss and validation loss over the duration of fine-tuning. There are really only two cases to consider: underfitting or overfitting. And you can figure out which regime you are in based on the above plot.\n",
    "\n",
    "**Underfitting**: The trianing loss is not low enough and the validation loss closely matches the training loss. You could also measure the accuracy on the training set itself for question-answering style tasks like HellaSwag. If you are in this regime you have a few options to improve the results:\n",
    "\n",
    "- Use more adapters. Increase `lora_layers` or adapt more of the linear layers within a given block by setting `lora_parameters[\"keys\"]`.\n",
    "- Use a higher rank. A higher rank means more parameters per adapter.\n",
    "- If you are using dropout, decrease the droupout rate or turn it off entirely.\n",
    "- Sometimes, underfitting issues are really optimization issues. In these cases it can be helpful to tune the learning rate or learning rate schedule.\n",
    "- If none of the above works, try a bigger model. For example, try Phi-3 medium instead of Phi-3 tiny.\n",
    "\n",
    "**Overfitting**: The trianing loss keeps going down but the validation loss stops going down and even starts to go up. If you are in this regime you also have a few options:\n",
    "\n",
    "- The best thing to do is to use more trianing data if you have it.\n",
    "- Contrary to the underfitting regime decreasing the capacity of the model can help. For example, use fewer adapters, a lower LoRA rank, or a smaller model size.\n",
    "- If you are not using dropout, use it.\n",
    "\n",
    "If you find your adapters work well pre-fusion but stop working post-fusion, try tuning the `scale` parameter, $c$, prior to fine-tuning. Typically the adapters have a smaller magnitude than the weights, so using a larger scale helps.\n",
    "\n",
    "#### Memory Use\n",
    "\n",
    "Fine-tuning a large LM with LoRA requires a machine with a decent amount of memory. Here are some tips to reduce memory use should you need to do so. \n",
    "\n",
    "- Try quantization (QLoRA). You can use QLoRA by generating a quantized model with `mlx_lm.convert` and the `-q` flag or by using an already quantized model from HuggingFace.\n",
    "\n",
    "- Try using a smaller batch size. You can set the `batch_size` parameter in the `TrainingArgs` or pass `--batch-size` if you are using the CLI. The default is 4 so setting this to 2 or 1 will reduce memory consumption. Note, this may slow things down a little..\n",
    "\n",
    "- Reduce the number of layers to fine-tune with by setting `lora_layers` to a smaller value or passing `--lora-layers` if you are using the CLI. The default is `16`, so you can try `8` or `4`. This reduces the amount of memory needed for back propagation. It may also reduce the quality of the fine-tuned model and you may need to compensate with a larger `rank`.\n",
    "\n",
    "- Longer examples require more memory. If it makes sense for your data, one thing you can do is break your examples into smaller sequences when making the `train`, `valid`, and `test` data sets.\n",
    "\n",
    "- Gradient checkpointing lets you trade-off memory use (less) for computation (more) by recomputing instead of storing intermediate values needed by the backward pass. You can use gradient checkpointing by passing `grad_checkpoint=True` to the `TrainingArgs` or the `--grad-checkpoint` flag if using the CLI. Gradient checkpointing will be more helpful for larger batch sizes or sequence lengths with smaller or quantized models.\n",
    "\n",
    "### Next Steps\n",
    "\n",
    "- To learn more about MLX check-out the [GitHub repo](http://github.com/ml-explore/mlx) and [documentation](https://ml-explore.github.io/mlx/)\n",
    "- For more on MLX LM check-out the [MLX LM documentation](https://github.com/ml-explore/mlx-examples/tree/main/llms#readme).\n",
    "- Check out the other [MLX Examples](https://github.com/ml-explore/mlx-examples/tree/main). These are great as a learning resource or to use as a starting point for a new project.\n",
    "- We also have an example of [LoRA fine-tuning in MLX Swift](https://github.com/ml-explore/mlx-swift-examples/tree/main/Applications/LoRATrainingExample)."
   ]
  }
 ],
 "metadata": {
  "kernelspec": {
   "display_name": ".venv",
   "language": "python",
   "name": "python3"
  },
  "language_info": {
   "codemirror_mode": {
    "name": "ipython",
    "version": 3
   },
   "file_extension": ".py",
   "mimetype": "text/x-python",
   "name": "python",
   "nbconvert_exporter": "python",
   "pygments_lexer": "ipython3",
   "version": "3.12.5"
  }
 },
 "nbformat": 4,
 "nbformat_minor": 5
}
