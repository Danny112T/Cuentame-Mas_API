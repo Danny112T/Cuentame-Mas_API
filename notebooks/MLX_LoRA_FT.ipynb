{
 "cells": [
  {
   "cell_type": "markdown",
   "id": "1055c3f3",
   "metadata": {},
   "source": [
    "### LoRA Fine-Tuning with MLX LM\n",
    "\n",
    "In this notebook, we'll walk through how to [LoRA fine-tune](https://arxiv.org/abs/2106.09685) an LLM with MLX LM. We'll use the [HellaSwag](https://rowanzellers.com/hellaswag/) dataset for common sense reasoning as an example. An outline:\n",
    "\n",
    "1. Download the dataset and prepare it in the right format for MLX LM.\n",
    "2. Setup and run LoRA training. We'll show how to capture the training logs and plot some statistics to visualize the performance.\n",
    "3. Evaluate on the test set. We'll compute the final question-answer accuracy of the fine-tuned model.\n",
    "4. Fuse the resulting adapters into the base model and upload to Hugging Face.\n",
    "5. Discuss tips for debugging accuracy and efficiency."
   ]
  },
  {
   "cell_type": "markdown",
   "id": "21397627",
   "metadata": {},
   "source": [
    "### Install dependencies"
   ]
  },
  {
   "cell_type": "code",
   "execution_count": 139,
   "id": "664272fb",
   "metadata": {
    "scrolled": true
   },
   "outputs": [],
   "source": [
    "# pip install mlx-lm\n",
    "# pip install matplotlib\n",
    "# pip install rouge-score\n",
    "# pip install scikit-learn\n",
    "# pip install tqdm\n",
    "# pip install numpy\n",
    "# pip install json\n",
    "# pip install pathlib\n",
    "# pip install transformers\n",
    "# pip install sentencepiece\n",
    "# pip install datasets\n",
    "# pip install torch\n",
    "# pip install mlflow"
   ]
  },
  {
   "cell_type": "markdown",
   "id": "a1131315",
   "metadata": {},
   "source": [
    "### MLFOW CONFIG"
   ]
  },
  {
   "cell_type": "code",
   "execution_count": 140,
   "id": "4d1cf602",
   "metadata": {},
   "outputs": [],
   "source": [
    "import mlflow\n",
    "mlflow.end_run()"
   ]
  },
  {
   "cell_type": "code",
   "execution_count": null,
   "id": "caae62a7",
   "metadata": {},
   "outputs": [],
   "source": []
  },
  {
   "cell_type": "code",
   "execution_count": 141,
   "id": "1d438bc6",
   "metadata": {},
   "outputs": [],
   "source": [
    "#exp_name=\"finetuning_comparativa\"\n",
    "exp_name=\"MLX1.0\"\n",
    "corrida_name=\"MLX-20_16_4e4\"\n",
    "# base_model = \"Llama-3.2-1B-Instruct\"\n",
    "# four_bits = True \n",
    "# dataset_path = \"FAQ_All.jsonl\"\n",
    "# dataset_type = \"alpaca_chat.load_qa\"\n",
    "# output_dir = \"../trained_models/adapters/adapters.safetensors\"\n",
    "output_path = \"../trained_models/adapters_20_16_4e4/\"\n",
    "output_dir = output_path + 'adapters.safetensors'\n",
    "sequence_len = 2048\n",
    "lora_layers = 8\n",
    "lora_layers_scale = 20.0\n",
    "grad_checkpoint_value = True\n",
    "\n",
    "\n",
    "\n",
    "lora_r = 8\n",
    "# lora_alpha = 16\n",
    "lora_dropout = 0.0\n",
    "# gradient_accumulation_steps = 4\n",
    "optimizer = \"adam\"\n",
    "# weight_decay_value = 0.02\n",
    "lr_scheduler = \"linear\"\n",
    "learning_rate_value = 4e-4\n",
    "batch_size = 16\n",
    "\n",
    "epochs = 20\n",
    "steps = 1280"
   ]
  },
  {
   "cell_type": "code",
   "execution_count": 142,
   "id": "0c0069b0",
   "metadata": {},
   "outputs": [
    {
     "data": {
      "text/plain": [
       "<Experiment: artifact_location='mlflow-artifacts:/880645134898555871', creation_time=1733877767863, experiment_id='880645134898555871', last_update_time=1733877767863, lifecycle_stage='active', name='MLX1.0', tags={}>"
      ]
     },
     "execution_count": 142,
     "metadata": {},
     "output_type": "execute_result"
    }
   ],
   "source": [
    "# mlflow.set_tracking_uri(\"https://4z0r6nts-5000.usw3.devtunnels.ms/\") \n",
    "mlflow.set_tracking_uri(\"http://127.0.0.1:5000/\")\n",
    "mlflow.set_experiment(experiment_name=exp_name)"
   ]
  },
  {
   "cell_type": "markdown",
   "id": "dd27c693",
   "metadata": {},
   "source": [
    "### Preprocess Data\n",
    "We'll start by downloading an already pre-processed version of the HellaSwag dataset from [LLM-Adapters](https://github.com/AGI-Edgerunners/LLM-Adapters)."
   ]
  },
  {
   "cell_type": "code",
   "execution_count": 143,
   "id": "61698208",
   "metadata": {},
   "outputs": [
    {
     "name": "stdout",
     "output_type": "stream",
     "text": [
      "Hello stats: 1024 lenght trainging dataset\n",
      "An example:\n",
      "\n",
      "{\n",
      "  \"pregunta\": \"\\u00bfPuedo presentar una p\\u00f3liza de bonos en formato electr\\u00f3nico?\",\n",
      "  \"respuesta\": \"Este tipo de garant\\u00eda es v\\u00e1lida, \\u00bfno?\"\n",
      "}\n"
     ]
    }
   ],
   "source": [
    "import json\n",
    "import csv\n",
    "import numpy as np\n",
    "from pathlib import Path\n",
    "\n",
    "# jsonl file path\n",
    "\"\"\" save_path = \"./dataset/FAQ_All.jsonl\"\n",
    "with open(save_path, 'r') as file:\n",
    "\tdataset = [json.loads(line) for line in file]\n",
    "\"\"\"\n",
    "\n",
    "# csv file path\n",
    "save_path = \"./datasets/Parph_Data/FAQs_1000.csv\"\n",
    "dataset = []\n",
    "with open(save_path, 'r', encoding='utf-8') as file:\n",
    "\treader = csv.DictReader(file)\n",
    "\tfor row in reader:\n",
    "\t\tdataset.append(row)\n",
    "\n",
    "print(f\"Hello stats: {len(dataset)} lenght trainging dataset\")\n",
    "print(\"An example:\\n\")\n",
    "print(json.dumps(dataset[0], indent=2))"
   ]
  },
  {
   "cell_type": "markdown",
   "id": "9a514d79",
   "metadata": {},
   "source": [
    "Next, let's split the training set into a training and a validation set. We'll pull out a randomly chosen 10% for validation."
   ]
  },
  {
   "cell_type": "code",
   "execution_count": 144,
   "id": "9b607237",
   "metadata": {},
   "outputs": [],
   "source": [
    "# Seed for reproducibility\n",
    "np.random.seed(43)\n",
    "perm = np.random.permutation(len(dataset))\n",
    "valid_size = int(0.2 * len(dataset))\n",
    "valid_set = [dataset[i] for i in perm[:valid_size]]\n",
    "train_set = [dataset[i] for i in perm[valid_size:]]"
   ]
  },
  {
   "cell_type": "markdown",
   "id": "35c38c4e",
   "metadata": {},
   "source": [
    "Finally, put the data splits in the MLX LM training format. The format simply expects the data to be in a container which supports random access to the individual examples (e.g. a Python `list`):\n",
    "```\n",
    "[\"An example for the model.\", \"Another example for the model.\", ...]\n",
    "```\n",
    "For more details, see the [documentation on supported formats](https://github.com/ml-explore/mlx-examples/blob/main/llms/mlx_lm/LORA.md#Data)."
   ]
  },
  {
   "cell_type": "code",
   "execution_count": 145,
   "id": "ea738f2b",
   "metadata": {},
   "outputs": [],
   "source": [
    "def clean_text(text):\n",
    "    text = text.strip()\n",
    "    text = ' '.join(text.split())\n",
    "    return text\n",
    "\n",
    "\"\"\"def preprocess(dataset):\n",
    "    return [\n",
    "        f\"Question: {clean_text(t['question'])}\\n\"\n",
    "        f\"Answer: {clean_text(t['answer'])}\\n\"\n",
    "        for t in dataset\n",
    "    ]\"\"\"\n",
    "def preprocess(dataset):\n",
    "    return [\n",
    "        f\"pregunta: {clean_text(t['pregunta'])}\\n\"\n",
    "        f\"respuesta: {clean_text(t['respuesta'])}\\n\"\n",
    "        for t in dataset\n",
    "    ]\n",
    "\n",
    "train_set, valid_set = map(preprocess, (train_set, valid_set))"
   ]
  },
  {
   "cell_type": "markdown",
   "id": "b259eb69",
   "metadata": {},
   "source": [
    "### Fine-Tune\n",
    "\n",
    "For fine-tuning, we'll use Microsoft's [Phi-3 mini](https://huggingface.co/microsoft/Phi-3-mini-4k-instruct). At 3.8 billion parameters, Phi-3 mini is a high-quality model that is also fast to fine-tune on most Apple silicon machines. Also, it has a [permissive MIT License](https://huggingface.co/microsoft/Phi-3-mini-4k-instruct/blob/main/LICENSE).\n",
    "\n",
    "First, import all the packages and functions we need."
   ]
  },
  {
   "cell_type": "code",
   "execution_count": 146,
   "id": "c3ff309a",
   "metadata": {},
   "outputs": [],
   "source": [
    "import matplotlib.pyplot as plt\n",
    "import mlx.core as mx\n",
    "import mlx.optimizers as optim\n",
    "from mlx.utils import tree_flatten\n",
    "from mlx_lm.utils import load, generate\n",
    "from mlx_lm.tuner.trainer import train, evaluate, TrainingArgs\n",
    "from mlx_lm.tuner.utils import linear_to_lora_layers\n"
   ]
  },
  {
   "cell_type": "markdown",
   "id": "87628d24",
   "metadata": {},
   "source": [
    "Next, setup the LoRA parameters and make the training arguments. See the [training argument class](https://github.com/ml-explore/mlx-examples/blob/81318ad4a8b2ca5fd1431a42db2b0244d16be851/llms/mlx_lm/tuner/trainer.py#L31-L63) for a more detailed list of training parameters. \n",
    "\n",
    "Recall the LoRA update is $W^\\top \\mathbf{x} + c \\cdot \\mathbf{a} \\mathbf{b}^\\top \\mathbf{x}$ where $\\mathbf{a}$ has shape `(D, rank)`.\n",
    "\n",
    "With that in mind, the LoRA parameters to attend to are:\n",
    "- `lora_layers`: The number of Transformer blocks from the top of the model to adapt.\n",
    "- `rank`: The rank of the low-rank adapters. A larger rank implies more adapter parameters per linear layer.\n",
    "- `scale`: This is the constant $c$ that scales the low-rank update."
   ]
  },
  {
   "cell_type": "code",
   "execution_count": 147,
   "id": "f0851dc8",
   "metadata": {},
   "outputs": [],
   "source": [
    "# Make a directory to save the adapter config and weights\n",
    "adapter_path = Path(\"../trained_models/adapters\")\n",
    "adapter_path.mkdir(parents=True, exist_ok=True)\n",
    "\n",
    "lora_config = {\n",
    " \"lora_layers\": lora_layers,\n",
    " \"lora_parameters\": {\n",
    "    \"rank\": lora_r,\n",
    "    \"scale\": lora_layers_scale,\n",
    "    \"dropout\": lora_dropout,\n",
    "    \"epochs\": epochs\n",
    "}}\n",
    "\n",
    "# Save the LoRA config to the adapter path\n",
    "with open(adapter_path / \"adapter_config.json\", \"w\") as fid:\n",
    "    json.dump(lora_config, fid, indent=4)    \n",
    "\n",
    "training_args = TrainingArgs(\n",
    "    adapter_file=output_dir,\n",
    "    iters=steps,\n",
    "    steps_per_eval=50,\n",
    "    batch_size=batch_size,\n",
    "    max_seq_length=sequence_len,\n",
    "    grad_checkpoint=grad_checkpoint_value,\n",
    ")"
   ]
  },
  {
   "cell_type": "markdown",
   "id": "56fefd19",
   "metadata": {},
   "source": [
    "Next, load the Phi-3 mini model. Note this may take a few minutes to download from HuggingFace if you haven't downloaded it before."
   ]
  },
  {
   "cell_type": "code",
   "execution_count": 148,
   "id": "fb0b16f2",
   "metadata": {},
   "outputs": [],
   "source": [
    "model_path = \"../original_models/Llama-3.2-1B-Instruct-bf16\"\n",
    "model, tokenizer = load(model_path)"
   ]
  },
  {
   "cell_type": "markdown",
   "id": "6609c92a",
   "metadata": {},
   "source": [
    "After loading the model, freeze it's parameters so we don't train them. Then convert linear layers to LoRA layers using the MLX LM utility `linear_to_lora_layers`. The adapters in the `LoRA` layers are not frozen, so they will be included in the model's `trainable_parameters`. Check-out the [LoRA layer implementation](https://github.com/ml-explore/mlx-examples/blob/81318ad4a8b2ca5fd1431a42db2b0244d16be851/llms/mlx_lm/tuner/lora.py#L72-L104) to see how it all works.\n",
    "\n",
    "By default, MLX LM only adapts the query, key, and value projection matrices for Phi-3. You can specify the layers to adapt by setting `lora_parameters[\"keys\"]` to a list of layer names. In this case it defaults to `[\"attn.qkv_proj\"]`. "
   ]
  },
  {
   "cell_type": "code",
   "execution_count": 149,
   "id": "50e1ab3a",
   "metadata": {},
   "outputs": [
    {
     "name": "stdout",
     "output_type": "stream",
     "text": [
      "Number of trainable parameters: 425984\n"
     ]
    }
   ],
   "source": [
    "# Freeze the base model\n",
    "model.freeze()\n",
    "\n",
    "# Convert linear layers to lora layers\n",
    "linear_to_lora_layers(model, lora_config[\"lora_layers\"], lora_config[\"lora_parameters\"])\n",
    "\n",
    "num_train_params = (\n",
    "    sum(v.size for _, v in tree_flatten(model.trainable_parameters()))\n",
    ")\n",
    "print(f\"Number of trainable parameters: {num_train_params}\")"
   ]
  },
  {
   "cell_type": "markdown",
   "id": "db34ee27",
   "metadata": {},
   "source": [
    "### Evaluate Functions\n",
    "\n",
    "The training and validation loss are only part of the story. For HellaSwag, we ultimately care about how good the model is at answering questions. To asses this, let's generate the actual `ending1`, `ending2`, `ending3`, or `ending4` responses with the fine-tuned model and measure the accuracy.\n",
    "\n",
    "First, let's split the last word off of each example in the test set to create a prompt without the answer."
   ]
  },
  {
   "cell_type": "code",
   "execution_count": 150,
   "id": "37e55f6a",
   "metadata": {},
   "outputs": [],
   "source": [
    "import mlx.core as mx\n",
    "import mlx.nn as nn\n",
    "import numpy as np\n",
    "from tqdm import tqdm\n",
    "from rouge_score import rouge_scorer\n",
    "from sklearn.metrics import f1_score\n",
    "from difflib import SequenceMatcher\n",
    "import os\n",
    "\n",
    "def similar(a, b):\n",
    "    return SequenceMatcher(None, a.lower(), b.lower()).ratio() > 0.8\n",
    "\n",
    "def evaluate_model(model, tokenizer, dataset):\n",
    "    model.eval()\n",
    "    all_preds = []\n",
    "    all_labels = []\n",
    "    total_loss = 0.0\n",
    "\n",
    "    # Initialize ROUGE scorer\n",
    "    scorer = rouge_scorer.RougeScorer(['rouge1', 'rouge2', 'rougeL'], use_stemmer=True)\n",
    "    rouge_scores = {'rouge1': [], 'rouge2': [], 'rougeL': []}\n",
    "\n",
    "    # Adjust generation parameters\n",
    "    generation_params = {\n",
    "        \"max_tokens\": 500,\n",
    "        \"top_p\": 0.9,\n",
    "    }\n",
    "    \n",
    "    for example in tqdm(dataset):\n",
    "        # Get prompt and true answer\n",
    "        prompt = example[\"prompt\"]\n",
    "        true_answer = example[\"response\"]\n",
    "        \n",
    "        # Generate prediction\n",
    "        response = generate(model, tokenizer, prompt, **generation_params)\n",
    "        \n",
    "        # Store prediction and true label\n",
    "        all_preds.append(response)\n",
    "        all_labels.append(true_answer)\n",
    "        \n",
    "        # Calculate ROUGE scores\n",
    "        scores = scorer.score(true_answer, response)\n",
    "        for key, score in scores.items():\n",
    "            rouge_scores[key].append(score.fmeasure)\n",
    "\n",
    "        # Calculate loss/perplexity\n",
    "        tokens = tokenizer.encode(prompt + true_answer)\n",
    "        tokens = mx.array(tokens)\n",
    "        \n",
    "        # Forward pass\n",
    "        logits = model(tokens[None])[0]\n",
    "        \n",
    "        # Calculate cross entropy loss\n",
    "        targets = tokens[1:]\n",
    "        logits = logits[:-1]\n",
    "        loss = mx.mean(nn.losses.cross_entropy(logits, targets))\n",
    "        total_loss += float(loss)\n",
    "\n",
    "    # Calculate metrics\n",
    "    accuracy = sum(1 for x,y in zip(all_preds, all_labels) if similar(x.strip(), y.strip())) / len(all_preds)\n",
    "    \n",
    "    # Convert predictions and labels to match format for F1\n",
    "    pred_labels = [1 if similar(p.strip(), l.strip()) else 0 for p,l in zip(all_preds, all_labels)]\n",
    "    true_labels = [1] * len(all_labels)\n",
    "    f1 = f1_score(true_labels, pred_labels, average='binary')\n",
    "    \n",
    "    # Calculate average ROUGE scores\n",
    "    avg_rouge_scores = {key: np.mean(scores) for key, scores in rouge_scores.items()}\n",
    "\n",
    "    # Calculate perplexity\n",
    "    avg_loss = total_loss / len(dataset)\n",
    "    perplexity = float(mx.exp(mx.array(avg_loss)))\n",
    "\n",
    "    return accuracy, f1, perplexity, avg_rouge_scores\n",
    "\n",
    "# Load test dataset\n",
    "test_set_path = \"./datasets/Parph_Data/FAQs_200_testing.jsonl\" \n",
    "with open(test_set_path, 'r') as file:\n",
    "    test_set = [json.loads(line) for line in file]\n",
    "\n",
    "# Define number of test samples\n",
    "num_test = len(test_set)\n"
   ]
  },
  {
   "cell_type": "markdown",
   "id": "827d1590",
   "metadata": {},
   "source": [
    "Now we're ready to put it all together and actually train the model. We'll use `Adam` for the optimizer, but you can specify any [optimizer](https://ml-explore.github.io/mlx/build/html/python/optimizers/common_optimizers.html) with any [scheduler](https://ml-explore.github.io/mlx/build/html/python/optimizers/schedulers.html). We also added a custom class to capture the training and validation loss to plot it later."
   ]
  },
  {
   "cell_type": "code",
   "execution_count": 151,
   "id": "984516d3",
   "metadata": {
    "scrolled": true
   },
   "outputs": [
    {
     "name": "stdout",
     "output_type": "stream",
     "text": [
      "Output folder ../trained_models/adapters_20_16_4e4/ created\n",
      "Starting training..., iters: 1280\n",
      "Iter 1: Val loss 3.565, Val took 12.121s\n",
      "Iter 10: Train loss 3.084, Learning Rate 4.000e-04, It/sec 0.194, Tokens/sec 262.357, Trained Tokens 13551, Peak mem 19.940 GB\n",
      "Iter 20: Train loss 3.054, Learning Rate 4.000e-04, It/sec 0.202, Tokens/sec 289.772, Trained Tokens 27884, Peak mem 19.940 GB\n",
      "Iter 30: Train loss 2.774, Learning Rate 4.000e-04, It/sec 0.142, Tokens/sec 248.666, Trained Tokens 45354, Peak mem 19.940 GB\n",
      "Iter 40: Train loss 2.557, Learning Rate 4.000e-04, It/sec 0.313, Tokens/sec 293.429, Trained Tokens 54737, Peak mem 19.940 GB\n",
      "Iter 50: Val loss 2.625, Val took 11.884s\n",
      "Iter 50: Train loss 2.471, Learning Rate 4.000e-04, It/sec 2.466, Tokens/sec 2132.002, Trained Tokens 63381, Peak mem 19.940 GB\n",
      "Iter 60: Train loss 2.287, Learning Rate 4.000e-04, It/sec 0.326, Tokens/sec 305.655, Trained Tokens 72758, Peak mem 19.940 GB\n",
      "Iter 70: Train loss 2.354, Learning Rate 4.000e-04, It/sec 0.240, Tokens/sec 299.695, Trained Tokens 85264, Peak mem 19.940 GB\n",
      "Iter 80: Train loss 2.458, Learning Rate 4.000e-04, It/sec 0.150, Tokens/sec 257.026, Trained Tokens 102354, Peak mem 19.940 GB\n",
      "Iter 90: Train loss 2.258, Learning Rate 4.000e-04, It/sec 0.231, Tokens/sec 303.877, Trained Tokens 115515, Peak mem 19.940 GB\n",
      "Iter 100: Val loss 2.361, Val took 9.963s\n",
      "Iter 100: Train loss 2.185, Learning Rate 4.000e-04, It/sec 1.373, Tokens/sec 1825.318, Trained Tokens 128810, Peak mem 19.940 GB\n",
      "Iter 100: Saved adapter weights to ../trained_models/adapters_20_16_4e4/adapters.safetensors and ../trained_models/adapters_20_16_4e4/0000100_adapters.safetensors.\n",
      "Iter 110: Train loss 2.019, Learning Rate 4.000e-04, It/sec 0.274, Tokens/sec 288.307, Trained Tokens 139323, Peak mem 19.940 GB\n",
      "Iter 120: Train loss 1.940, Learning Rate 4.000e-04, It/sec 0.294, Tokens/sec 299.066, Trained Tokens 149484, Peak mem 19.940 GB\n",
      "Iter 130: Train loss 1.991, Learning Rate 4.000e-04, It/sec 0.245, Tokens/sec 280.197, Trained Tokens 160908, Peak mem 19.940 GB\n",
      "Iter 140: Train loss 2.158, Learning Rate 4.000e-04, It/sec 0.178, Tokens/sec 298.662, Trained Tokens 177720, Peak mem 19.940 GB\n",
      "Iter 150: Val loss 2.229, Val took 11.689s\n",
      "Iter 150: Train loss 1.927, Learning Rate 4.000e-04, It/sec 1.923, Tokens/sec 2314.943, Trained Tokens 189756, Peak mem 19.940 GB\n",
      "Iter 160: Train loss 1.881, Learning Rate 4.000e-04, It/sec 0.117, Tokens/sec 209.576, Trained Tokens 207710, Peak mem 19.940 GB\n",
      "Iter 170: Train loss 1.794, Learning Rate 4.000e-04, It/sec 0.216, Tokens/sec 293.707, Trained Tokens 221277, Peak mem 19.940 GB\n",
      "Iter 180: Train loss 1.613, Learning Rate 4.000e-04, It/sec 0.270, Tokens/sec 288.227, Trained Tokens 231944, Peak mem 19.940 GB\n",
      "Iter 190: Train loss 1.807, Learning Rate 4.000e-04, It/sec 0.238, Tokens/sec 310.587, Trained Tokens 245014, Peak mem 19.940 GB\n",
      "Iter 200: Val loss 2.190, Val took 12.208s\n",
      "Iter 200: Train loss 1.842, Learning Rate 4.000e-04, It/sec 1.258, Tokens/sec 1632.676, Trained Tokens 257994, Peak mem 19.940 GB\n",
      "Iter 200: Saved adapter weights to ../trained_models/adapters_20_16_4e4/adapters.safetensors and ../trained_models/adapters_20_16_4e4/0000200_adapters.safetensors.\n",
      "Iter 210: Train loss 1.498, Learning Rate 4.000e-04, It/sec 0.282, Tokens/sec 265.414, Trained Tokens 267407, Peak mem 19.940 GB\n",
      "Iter 220: Train loss 1.601, Learning Rate 4.000e-04, It/sec 0.226, Tokens/sec 276.444, Trained Tokens 279616, Peak mem 19.940 GB\n",
      "Iter 230: Train loss 1.535, Learning Rate 4.000e-04, It/sec 0.248, Tokens/sec 282.003, Trained Tokens 291001, Peak mem 19.940 GB\n",
      "Iter 240: Train loss 1.570, Learning Rate 4.000e-04, It/sec 0.170, Tokens/sec 238.056, Trained Tokens 305044, Peak mem 19.940 GB\n",
      "Iter 250: Val loss 2.150, Val took 12.491s\n",
      "Iter 250: Train loss 1.716, Learning Rate 4.000e-04, It/sec 0.829, Tokens/sec 1258.661, Trained Tokens 320232, Peak mem 19.940 GB\n",
      "Iter 260: Train loss 1.407, Learning Rate 4.000e-04, It/sec 0.272, Tokens/sec 301.834, Trained Tokens 331335, Peak mem 19.940 GB\n",
      "Iter 270: Train loss 1.412, Learning Rate 4.000e-04, It/sec 0.232, Tokens/sec 287.183, Trained Tokens 343729, Peak mem 19.940 GB\n",
      "Iter 280: Train loss 1.322, Learning Rate 4.000e-04, It/sec 0.248, Tokens/sec 267.439, Trained Tokens 354509, Peak mem 19.940 GB\n",
      "Iter 290: Train loss 1.353, Learning Rate 4.000e-04, It/sec 0.178, Tokens/sec 247.551, Trained Tokens 368455, Peak mem 19.940 GB\n",
      "Iter 300: Val loss 2.141, Val took 9.930s\n",
      "Iter 300: Train loss 1.642, Learning Rate 4.000e-04, It/sec 2.261, Tokens/sec 3729.166, Trained Tokens 384949, Peak mem 19.940 GB\n",
      "Iter 300: Saved adapter weights to ../trained_models/adapters_20_16_4e4/adapters.safetensors and ../trained_models/adapters_20_16_4e4/0000300_adapters.safetensors.\n",
      "Iter 310: Train loss 1.335, Learning Rate 4.000e-04, It/sec 0.237, Tokens/sec 289.013, Trained Tokens 397160, Peak mem 19.940 GB\n",
      "Iter 320: Train loss 1.202, Learning Rate 4.000e-04, It/sec 0.230, Tokens/sec 276.094, Trained Tokens 409159, Peak mem 19.940 GB\n",
      "Iter 330: Train loss 1.288, Learning Rate 4.000e-04, It/sec 0.210, Tokens/sec 283.764, Trained Tokens 422674, Peak mem 19.940 GB\n",
      "Iter 340: Train loss 1.193, Learning Rate 4.000e-04, It/sec 0.275, Tokens/sec 289.176, Trained Tokens 433191, Peak mem 19.940 GB\n",
      "Iter 350: Val loss 2.121, Val took 11.748s\n",
      "Iter 350: Train loss 1.310, Learning Rate 4.000e-04, It/sec 0.843, Tokens/sec 1113.080, Trained Tokens 446389, Peak mem 19.940 GB\n",
      "Iter 360: Train loss 1.394, Learning Rate 4.000e-04, It/sec 0.154, Tokens/sec 236.561, Trained Tokens 461790, Peak mem 19.940 GB\n",
      "Iter 370: Train loss 1.108, Learning Rate 4.000e-04, It/sec 0.158, Tokens/sec 250.511, Trained Tokens 477661, Peak mem 19.940 GB\n",
      "Iter 380: Train loss 1.118, Learning Rate 4.000e-04, It/sec 0.207, Tokens/sec 278.065, Trained Tokens 491098, Peak mem 19.940 GB\n",
      "Iter 390: Train loss 1.225, Learning Rate 4.000e-04, It/sec 0.221, Tokens/sec 300.047, Trained Tokens 504659, Peak mem 19.940 GB\n",
      "Iter 400: Val loss 2.117, Val took 11.566s\n",
      "Iter 400: Train loss 1.091, Learning Rate 4.000e-04, It/sec 3.252, Tokens/sec 3283.544, Trained Tokens 514757, Peak mem 19.940 GB\n",
      "Iter 400: Saved adapter weights to ../trained_models/adapters_20_16_4e4/adapters.safetensors and ../trained_models/adapters_20_16_4e4/0000400_adapters.safetensors.\n",
      "Iter 410: Train loss 1.142, Learning Rate 4.000e-04, It/sec 0.256, Tokens/sec 264.002, Trained Tokens 525064, Peak mem 19.940 GB\n",
      "Iter 420: Train loss 1.031, Learning Rate 4.000e-04, It/sec 0.162, Tokens/sec 235.387, Trained Tokens 539629, Peak mem 19.940 GB\n",
      "Iter 430: Train loss 1.027, Learning Rate 4.000e-04, It/sec 0.248, Tokens/sec 297.063, Trained Tokens 551588, Peak mem 19.940 GB\n",
      "Iter 440: Train loss 1.090, Learning Rate 4.000e-04, It/sec 0.218, Tokens/sec 265.558, Trained Tokens 563786, Peak mem 19.940 GB\n",
      "Iter 450: Val loss 2.164, Val took 12.119s\n",
      "Iter 450: Train loss 1.002, Learning Rate 4.000e-04, It/sec 2.085, Tokens/sec 2414.722, Trained Tokens 575370, Peak mem 19.940 GB\n",
      "Iter 460: Train loss 1.150, Learning Rate 4.000e-04, It/sec 0.208, Tokens/sec 296.568, Trained Tokens 589609, Peak mem 19.940 GB\n",
      "Iter 470: Train loss 1.142, Learning Rate 4.000e-04, It/sec 0.131, Tokens/sec 239.181, Trained Tokens 607917, Peak mem 19.940 GB\n",
      "Iter 480: Train loss 0.896, Learning Rate 4.000e-04, It/sec 0.281, Tokens/sec 285.442, Trained Tokens 618087, Peak mem 19.940 GB\n",
      "Iter 490: Train loss 0.895, Learning Rate 4.000e-04, It/sec 0.243, Tokens/sec 285.063, Trained Tokens 629802, Peak mem 19.940 GB\n",
      "Iter 500: Val loss 2.155, Val took 11.158s\n",
      "Iter 500: Train loss 0.981, Learning Rate 4.000e-04, It/sec 1.182, Tokens/sec 1640.621, Trained Tokens 643680, Peak mem 19.940 GB\n",
      "Iter 500: Saved adapter weights to ../trained_models/adapters_20_16_4e4/adapters.safetensors and ../trained_models/adapters_20_16_4e4/0000500_adapters.safetensors.\n",
      "Iter 510: Train loss 0.924, Learning Rate 4.000e-04, It/sec 0.261, Tokens/sec 278.906, Trained Tokens 654360, Peak mem 19.940 GB\n",
      "Iter 520: Train loss 0.801, Learning Rate 4.000e-04, It/sec 0.229, Tokens/sec 287.391, Trained Tokens 666909, Peak mem 19.940 GB\n",
      "Iter 530: Train loss 0.796, Learning Rate 4.000e-04, It/sec 0.222, Tokens/sec 280.375, Trained Tokens 679557, Peak mem 19.940 GB\n",
      "Iter 540: Train loss 0.808, Learning Rate 4.000e-04, It/sec 0.278, Tokens/sec 275.523, Trained Tokens 689485, Peak mem 19.940 GB\n",
      "Iter 550: Val loss 2.153, Val took 11.172s\n",
      "Iter 550: Train loss 0.977, Learning Rate 4.000e-04, It/sec 1.255, Tokens/sec 1649.091, Trained Tokens 702626, Peak mem 19.940 GB\n",
      "Iter 560: Train loss 1.061, Learning Rate 4.000e-04, It/sec 0.139, Tokens/sec 226.612, Trained Tokens 718935, Peak mem 19.940 GB\n",
      "Iter 570: Train loss 0.685, Learning Rate 4.000e-04, It/sec 0.245, Tokens/sec 251.691, Trained Tokens 729220, Peak mem 19.940 GB\n",
      "Iter 580: Train loss 0.876, Learning Rate 4.000e-04, It/sec 0.145, Tokens/sec 212.692, Trained Tokens 743858, Peak mem 19.940 GB\n",
      "Iter 590: Train loss 0.793, Learning Rate 4.000e-04, It/sec 0.231, Tokens/sec 283.767, Trained Tokens 756140, Peak mem 19.940 GB\n",
      "Iter 600: Val loss 2.201, Val took 12.617s\n",
      "Iter 600: Train loss 0.754, Learning Rate 4.000e-04, It/sec 4.243, Tokens/sec 4024.067, Trained Tokens 765624, Peak mem 19.940 GB\n",
      "Iter 600: Saved adapter weights to ../trained_models/adapters_20_16_4e4/adapters.safetensors and ../trained_models/adapters_20_16_4e4/0000600_adapters.safetensors.\n",
      "Iter 610: Train loss 1.021, Learning Rate 4.000e-04, It/sec 0.166, Tokens/sec 298.049, Trained Tokens 783600, Peak mem 19.940 GB\n",
      "Iter 620: Train loss 0.805, Learning Rate 4.000e-04, It/sec 0.155, Tokens/sec 224.198, Trained Tokens 798023, Peak mem 19.940 GB\n",
      "Iter 630: Train loss 0.706, Learning Rate 4.000e-04, It/sec 0.266, Tokens/sec 310.110, Trained Tokens 809692, Peak mem 19.940 GB\n",
      "Iter 640: Train loss 0.789, Learning Rate 4.000e-04, It/sec 0.242, Tokens/sec 298.679, Trained Tokens 822057, Peak mem 19.940 GB\n",
      "Iter 650: Val loss 2.215, Val took 12.318s\n",
      "Iter 650: Train loss 0.720, Learning Rate 4.000e-04, It/sec 4.229, Tokens/sec 4628.328, Trained Tokens 833001, Peak mem 19.940 GB\n",
      "Iter 660: Train loss 0.771, Learning Rate 4.000e-04, It/sec 0.211, Tokens/sec 291.050, Trained Tokens 846827, Peak mem 19.940 GB\n",
      "Iter 670: Train loss 0.653, Learning Rate 4.000e-04, It/sec 0.254, Tokens/sec 279.517, Trained Tokens 857822, Peak mem 19.940 GB\n",
      "Iter 680: Train loss 0.617, Learning Rate 4.000e-04, It/sec 0.267, Tokens/sec 283.071, Trained Tokens 868417, Peak mem 19.940 GB\n",
      "Iter 690: Train loss 0.817, Learning Rate 4.000e-04, It/sec 0.201, Tokens/sec 294.344, Trained Tokens 883048, Peak mem 19.940 GB\n",
      "Iter 700: Val loss 2.230, Val took 11.787s\n",
      "Iter 700: Train loss 0.669, Learning Rate 4.000e-04, It/sec 1.976, Tokens/sec 2539.609, Trained Tokens 895902, Peak mem 19.940 GB\n",
      "Iter 700: Saved adapter weights to ../trained_models/adapters_20_16_4e4/adapters.safetensors and ../trained_models/adapters_20_16_4e4/0000700_adapters.safetensors.\n",
      "Iter 710: Train loss 0.809, Learning Rate 4.000e-04, It/sec 0.165, Tokens/sec 245.507, Trained Tokens 910752, Peak mem 19.940 GB\n",
      "Iter 720: Train loss 0.676, Learning Rate 4.000e-04, It/sec 0.215, Tokens/sec 281.507, Trained Tokens 923820, Peak mem 19.940 GB\n",
      "Iter 730: Train loss 0.584, Learning Rate 4.000e-04, It/sec 0.246, Tokens/sec 275.512, Trained Tokens 935021, Peak mem 19.940 GB\n",
      "Iter 740: Train loss 0.639, Learning Rate 4.000e-04, It/sec 0.286, Tokens/sec 282.652, Trained Tokens 944889, Peak mem 19.940 GB\n",
      "Iter 750: Val loss 2.232, Val took 11.804s\n",
      "Iter 750: Train loss 0.662, Learning Rate 4.000e-04, It/sec 1.731, Tokens/sec 2072.505, Trained Tokens 956860, Peak mem 19.940 GB\n",
      "Iter 760: Train loss 0.866, Learning Rate 4.000e-04, It/sec 0.148, Tokens/sec 241.964, Trained Tokens 973178, Peak mem 19.940 GB\n",
      "Iter 770: Train loss 0.759, Learning Rate 4.000e-04, It/sec 0.148, Tokens/sec 244.504, Trained Tokens 989735, Peak mem 19.940 GB\n",
      "Iter 780: Train loss 0.597, Learning Rate 4.000e-04, It/sec 0.263, Tokens/sec 305.621, Trained Tokens 1001359, Peak mem 19.940 GB\n",
      "Iter 790: Train loss 0.616, Learning Rate 4.000e-04, It/sec 0.223, Tokens/sec 300.633, Trained Tokens 1014860, Peak mem 19.940 GB\n",
      "Iter 800: Val loss 2.276, Val took 11.524s\n",
      "Iter 800: Train loss 0.624, Learning Rate 4.000e-04, It/sec 1.891, Tokens/sec 2600.335, Trained Tokens 1028610, Peak mem 19.940 GB\n",
      "Iter 800: Saved adapter weights to ../trained_models/adapters_20_16_4e4/adapters.safetensors and ../trained_models/adapters_20_16_4e4/0000800_adapters.safetensors.\n",
      "Iter 810: Train loss 0.653, Learning Rate 4.000e-04, It/sec 0.226, Tokens/sec 300.415, Trained Tokens 1041884, Peak mem 19.940 GB\n",
      "Iter 820: Train loss 0.619, Learning Rate 4.000e-04, It/sec 0.306, Tokens/sec 286.805, Trained Tokens 1051246, Peak mem 19.940 GB\n",
      "Iter 830: Train loss 0.665, Learning Rate 4.000e-04, It/sec 0.152, Tokens/sec 240.694, Trained Tokens 1067077, Peak mem 19.940 GB\n",
      "Iter 840: Train loss 0.526, Learning Rate 4.000e-04, It/sec 0.223, Tokens/sec 290.641, Trained Tokens 1080126, Peak mem 19.940 GB\n",
      "Iter 850: Val loss 2.237, Val took 9.937s\n",
      "Iter 850: Train loss 0.634, Learning Rate 4.000e-04, It/sec 1.218, Tokens/sec 1881.715, Trained Tokens 1095573, Peak mem 19.940 GB\n",
      "Iter 860: Train loss 0.589, Learning Rate 4.000e-04, It/sec 0.261, Tokens/sec 282.237, Trained Tokens 1106386, Peak mem 19.940 GB\n",
      "Iter 870: Train loss 0.630, Learning Rate 4.000e-04, It/sec 0.314, Tokens/sec 271.701, Trained Tokens 1115035, Peak mem 19.940 GB\n",
      "Iter 880: Train loss 0.542, Learning Rate 4.000e-04, It/sec 0.257, Tokens/sec 294.559, Trained Tokens 1126490, Peak mem 19.940 GB\n",
      "Iter 890: Train loss 0.544, Learning Rate 4.000e-04, It/sec 0.230, Tokens/sec 288.374, Trained Tokens 1139005, Peak mem 19.940 GB\n",
      "Iter 900: Val loss 2.278, Val took 10.970s\n",
      "Iter 900: Train loss 0.586, Learning Rate 4.000e-04, It/sec 2.620, Tokens/sec 2841.383, Trained Tokens 1149849, Peak mem 19.940 GB\n",
      "Iter 900: Saved adapter weights to ../trained_models/adapters_20_16_4e4/adapters.safetensors and ../trained_models/adapters_20_16_4e4/0000900_adapters.safetensors.\n",
      "Iter 910: Train loss 0.672, Learning Rate 4.000e-04, It/sec 0.141, Tokens/sec 246.965, Trained Tokens 1167421, Peak mem 19.940 GB\n",
      "Iter 920: Train loss 0.605, Learning Rate 4.000e-04, It/sec 0.244, Tokens/sec 285.241, Trained Tokens 1179104, Peak mem 19.940 GB\n",
      "Iter 930: Train loss 0.626, Learning Rate 4.000e-04, It/sec 0.150, Tokens/sec 249.676, Trained Tokens 1195696, Peak mem 19.940 GB\n",
      "Iter 940: Train loss 0.522, Learning Rate 4.000e-04, It/sec 0.211, Tokens/sec 295.793, Trained Tokens 1209691, Peak mem 19.940 GB\n",
      "Iter 950: Val loss 2.311, Val took 12.034s\n",
      "Iter 950: Train loss 0.561, Learning Rate 4.000e-04, It/sec 4.942, Tokens/sec 4146.593, Trained Tokens 1218082, Peak mem 19.940 GB\n",
      "Iter 960: Train loss 0.546, Learning Rate 4.000e-04, It/sec 0.182, Tokens/sec 285.815, Trained Tokens 1233821, Peak mem 19.940 GB\n",
      "Iter 970: Train loss 0.508, Learning Rate 4.000e-04, It/sec 0.259, Tokens/sec 282.850, Trained Tokens 1244723, Peak mem 19.940 GB\n",
      "Iter 980: Train loss 0.514, Learning Rate 4.000e-04, It/sec 0.210, Tokens/sec 274.679, Trained Tokens 1257777, Peak mem 19.940 GB\n",
      "Iter 990: Train loss 0.587, Learning Rate 4.000e-04, It/sec 0.162, Tokens/sec 231.287, Trained Tokens 1272047, Peak mem 19.940 GB\n",
      "Iter 1000: Val loss 2.337, Val took 10.072s\n",
      "Iter 1000: Train loss 0.528, Learning Rate 4.000e-04, It/sec 6.906, Tokens/sec 8797.585, Trained Tokens 1284786, Peak mem 19.940 GB\n",
      "Iter 1000: Saved adapter weights to ../trained_models/adapters_20_16_4e4/adapters.safetensors and ../trained_models/adapters_20_16_4e4/0001000_adapters.safetensors.\n",
      "Iter 1010: Train loss 0.554, Learning Rate 4.000e-04, It/sec 0.228, Tokens/sec 289.955, Trained Tokens 1297507, Peak mem 19.940 GB\n",
      "Iter 1020: Train loss 0.534, Learning Rate 4.000e-04, It/sec 0.268, Tokens/sec 300.936, Trained Tokens 1308720, Peak mem 19.940 GB\n",
      "Iter 1030: Train loss 0.515, Learning Rate 4.000e-04, It/sec 0.226, Tokens/sec 283.424, Trained Tokens 1321266, Peak mem 19.940 GB\n",
      "Iter 1040: Train loss 0.512, Learning Rate 4.000e-04, It/sec 0.262, Tokens/sec 265.893, Trained Tokens 1331415, Peak mem 19.940 GB\n",
      "Iter 1050: Val loss 2.282, Val took 10.140s\n",
      "Iter 1050: Train loss 0.530, Learning Rate 4.000e-04, It/sec 2.910, Tokens/sec 3848.639, Trained Tokens 1344642, Peak mem 19.940 GB\n",
      "Iter 1060: Train loss 0.645, Learning Rate 4.000e-04, It/sec 0.165, Tokens/sec 231.796, Trained Tokens 1358683, Peak mem 19.940 GB\n",
      "Iter 1070: Train loss 0.505, Learning Rate 4.000e-04, It/sec 0.218, Tokens/sec 294.777, Trained Tokens 1372215, Peak mem 19.940 GB\n",
      "Iter 1080: Train loss 0.486, Learning Rate 4.000e-04, It/sec 0.228, Tokens/sec 302.010, Trained Tokens 1385444, Peak mem 19.940 GB\n",
      "Iter 1090: Train loss 0.453, Learning Rate 4.000e-04, It/sec 0.225, Tokens/sec 293.159, Trained Tokens 1398470, Peak mem 19.940 GB\n",
      "Iter 1100: Val loss 2.284, Val took 9.952s\n",
      "Iter 1100: Train loss 0.571, Learning Rate 4.000e-04, It/sec 2.496, Tokens/sec 3572.754, Trained Tokens 1412782, Peak mem 19.940 GB\n",
      "Iter 1100: Saved adapter weights to ../trained_models/adapters_20_16_4e4/adapters.safetensors and ../trained_models/adapters_20_16_4e4/0001100_adapters.safetensors.\n",
      "Iter 1110: Train loss 0.511, Learning Rate 4.000e-04, It/sec 0.278, Tokens/sec 281.259, Trained Tokens 1422912, Peak mem 19.940 GB\n",
      "Iter 1120: Train loss 0.515, Learning Rate 4.000e-04, It/sec 0.229, Tokens/sec 265.671, Trained Tokens 1434501, Peak mem 19.940 GB\n",
      "Iter 1130: Train loss 0.505, Learning Rate 4.000e-04, It/sec 0.190, Tokens/sec 268.234, Trained Tokens 1448595, Peak mem 19.940 GB\n",
      "Iter 1140: Train loss 0.522, Learning Rate 4.000e-04, It/sec 0.139, Tokens/sec 224.967, Trained Tokens 1464794, Peak mem 19.940 GB\n",
      "Iter 1150: Val loss 2.323, Val took 10.154s\n",
      "Iter 1150: Train loss 0.488, Learning Rate 4.000e-04, It/sec 4.864, Tokens/sec 4908.359, Trained Tokens 1474885, Peak mem 19.940 GB\n",
      "Iter 1160: Train loss 0.516, Learning Rate 4.000e-04, It/sec 0.224, Tokens/sec 269.072, Trained Tokens 1486883, Peak mem 19.940 GB\n",
      "Iter 1170: Train loss 0.461, Learning Rate 4.000e-04, It/sec 0.216, Tokens/sec 276.370, Trained Tokens 1499655, Peak mem 19.940 GB\n",
      "Iter 1180: Train loss 0.549, Learning Rate 4.000e-04, It/sec 0.187, Tokens/sec 269.052, Trained Tokens 1514025, Peak mem 19.940 GB\n",
      "Iter 1190: Train loss 0.509, Learning Rate 4.000e-04, It/sec 0.138, Tokens/sec 219.836, Trained Tokens 1529949, Peak mem 19.940 GB\n",
      "Iter 1200: Val loss 2.359, Val took 10.252s\n",
      "Iter 1200: Train loss 0.511, Learning Rate 4.000e-04, It/sec 1.369, Tokens/sec 1380.172, Trained Tokens 1540034, Peak mem 19.940 GB\n",
      "Iter 1200: Saved adapter weights to ../trained_models/adapters_20_16_4e4/adapters.safetensors and ../trained_models/adapters_20_16_4e4/0001200_adapters.safetensors.\n",
      "Iter 1210: Train loss 0.438, Learning Rate 4.000e-04, It/sec 0.224, Tokens/sec 286.202, Trained Tokens 1552789, Peak mem 19.940 GB\n",
      "Iter 1220: Train loss 0.474, Learning Rate 4.000e-04, It/sec 0.209, Tokens/sec 266.904, Trained Tokens 1565531, Peak mem 19.940 GB\n",
      "Iter 1230: Train loss 0.452, Learning Rate 4.000e-04, It/sec 0.211, Tokens/sec 279.465, Trained Tokens 1578788, Peak mem 19.940 GB\n",
      "Iter 1240: Train loss 0.408, Learning Rate 4.000e-04, It/sec 0.233, Tokens/sec 281.242, Trained Tokens 1590856, Peak mem 19.940 GB\n",
      "Iter 1250: Val loss 2.346, Val took 13.247s\n",
      "Iter 1250: Train loss 0.461, Learning Rate 4.000e-04, It/sec 2.095, Tokens/sec 1904.092, Trained Tokens 1599944, Peak mem 19.940 GB\n",
      "Iter 1260: Train loss 0.487, Learning Rate 4.000e-04, It/sec 0.229, Tokens/sec 281.870, Trained Tokens 1612232, Peak mem 19.940 GB\n",
      "Iter 1270: Train loss 0.535, Learning Rate 4.000e-04, It/sec 0.122, Tokens/sec 229.805, Trained Tokens 1631080, Peak mem 19.940 GB\n",
      "Iter 1280: Val loss 2.366, Val took 12.540s\n",
      "Iter 1280: Train loss 0.530, Learning Rate 4.000e-04, It/sec 2.434, Tokens/sec 3289.423, Trained Tokens 1644593, Peak mem 19.940 GB\n",
      "Saved final adapter weights to ../trained_models/adapters_20_16_4e4/adapters.safetensors.\n",
      "\n",
      " Starting Evaluation\n",
      "Evaluating model...\n"
     ]
    },
    {
     "name": "stderr",
     "output_type": "stream",
     "text": [
      "100%|██████████| 205/205 [27:32<00:00,  8.06s/it]\n"
     ]
    },
    {
     "name": "stdout",
     "output_type": "stream",
     "text": [
      "\n",
      "Results on 205 test samples:\n",
      "Accuracy: 0.024\n",
      "F1 Score: 0.048\n",
      "Perplexity: 9.364\n",
      "\n",
      "ROUGE Scores:\n",
      "rouge1: 0.191\n",
      "rouge2: 0.091\n",
      "rougeL: 0.156\n",
      "🏃 View run MLX-20_16_4e4 at: http://127.0.0.1:5000/#/experiments/880645134898555871/runs/9d6fd4d1127a4e04a2770f952a0fa293\n",
      "🧪 View experiment at: http://127.0.0.1:5000/#/experiments/880645134898555871\n"
     ]
    }
   ],
   "source": [
    "# Checl if the output folder exists, if not, create it:\n",
    "if not os.path.exists(output_path):\n",
    "    os.makedirs(output_path)\n",
    "    print(f\"Output folder {output_path} created\")\n",
    "else:\n",
    "    print(f\"Output folder {output_path} already exists\")\n",
    "\n",
    "\n",
    "# Put the model in training mode:\n",
    "model.train()\n",
    "\n",
    "# Make the optimizer:\n",
    "if optimizer == \"adam\":\n",
    "    opt = optim.Adam(learning_rate=learning_rate_value)\n",
    "else:\n",
    "    opt = optim.AdamW(learning_rate=learning_rate_value, weight_decay=weight_decay_value)\n",
    "\n",
    "# Make a class to record the training stats:\n",
    "class Metrics:\n",
    "    train_losses = []\n",
    "    val_losses = []\n",
    "    val_accuracies = []\n",
    "\n",
    "    def on_train_loss_report(self, info):\n",
    "        self.train_losses.append((info[\"iteration\"], info[\"train_loss\"]))\n",
    "        try:\n",
    "            mlflow.log_metric(\"train_loss\", info[\"train_loss\"], step=info[\"iteration\"])\n",
    "        except Exception as e:\n",
    "            print(f\"Warning: Could not log train metric to MLflow: {e}\")\n",
    "            \n",
    "    def on_val_loss_report(self, info):\n",
    "        self.val_losses.append((info[\"iteration\"], info[\"val_loss\"]))\n",
    "        self.val_accuracies.append((info[\"iteration\"], info[\"val_loss\"]))\n",
    "        # log validation loss\n",
    "        try:\n",
    "            mlflow.log_metric(\"val_loss\", info[\"val_loss\"], step=info[\"iteration\"])\n",
    "        except Exception as e:\n",
    "            print(f\"Warning: Could not log validation metric to MLflow: {e}\")\n",
    "\n",
    "metrics = Metrics()\n",
    "\n",
    "with mlflow.start_run(run_name=corrida_name):\n",
    "    mlflow.log_params({\n",
    "        \"num_train_epoch\": lora_config[\"lora_parameters\"][\"epochs\"],\n",
    "        \"max_steps\": training_args.iters,\n",
    "        \"lora_r\": lora_config[\"lora_parameters\"][\"rank\"],\n",
    "        \"lora_dropout\":lora_config[\"lora_parameters\"][\"dropout\"],\n",
    "        \"lora_layers\":lora_config[\"lora_layers\"],\n",
    "        \"lora_layeres_scale\":lora_config[\"lora_parameters\"][\"scale\"],\n",
    "        \"batch_size\":training_args.batch_size,\n",
    "        \"optimizer\":optimizer,\n",
    "        \"learning_rate\":learning_rate_value,\n",
    "        # \"weight_decay\": weight_decay_value,\n",
    "        \"scheduler\":lr_scheduler\n",
    "    })\n",
    "\n",
    "    # Train model:\n",
    "    train(\n",
    "        model=model,\n",
    "        tokenizer=tokenizer,\n",
    "        args=training_args,\n",
    "        optimizer=opt,\n",
    "        train_dataset=train_set,\n",
    "        val_dataset=valid_set,\n",
    "        training_callback=metrics,\n",
    "    )\n",
    "\n",
    "    print(\"\\n Starting Evaluation\")\n",
    "    # Evaluate model and log metrics in the same run\n",
    "    print(\"Evaluating model...\")\n",
    "    accuracy, f1, perplexity, rouge_scores = evaluate_model(model, tokenizer, test_set[:num_test])\n",
    "\n",
    "    # Log final metrics\n",
    "    mlflow.log_metrics({\n",
    "        \"final_train_loss\": metrics.train_losses[-1][1],\n",
    "        \"final_val_loss\": metrics.val_losses[-1][1],\n",
    "        \"accuracy\": accuracy,\n",
    "        \"f1_score\": f1,\n",
    "        \"perplexity\": perplexity,\n",
    "        \"rouge1\": rouge_scores['rouge1'],\n",
    "        \"rouge2\": rouge_scores['rouge2'],\n",
    "        \"rougeL\": rouge_scores['rougeL']\n",
    "    })\n",
    "\n",
    "    # Print results\n",
    "    print(f\"\\nResults on {num_test} test samples:\")\n",
    "    print(f\"Accuracy: {accuracy:.3f}\")\n",
    "    print(f\"F1 Score: {f1:.3f}\") \n",
    "    print(f\"Perplexity: {perplexity:.3f}\")\n",
    "    print(\"\\nROUGE Scores:\")\n",
    "    for key, score in rouge_scores.items():\n",
    "        print(f\"{key}: {score:.3f}\")\n",
    "\n",
    "mlflow.end_run()"
   ]
  },
  {
   "cell_type": "markdown",
   "id": "b8d043b8",
   "metadata": {},
   "source": [
    "The adapters are saved every 100 iterations along with the final adapters in `adapters.safetensors`."
   ]
  },
  {
   "cell_type": "code",
   "execution_count": 152,
   "id": "ac329358",
   "metadata": {},
   "outputs": [
    {
     "name": "stderr",
     "output_type": "stream",
     "text": [
      "huggingface/tokenizers: The current process just got forked, after parallelism has already been used. Disabling parallelism to avoid deadlocks...\n",
      "To disable this warning, you can either:\n",
      "\t- Avoid using `tokenizers` before the fork if possible\n",
      "\t- Explicitly set the environment variable TOKENIZERS_PARALLELISM=(true | false)\n"
     ]
    },
    {
     "name": "stdout",
     "output_type": "stream",
     "text": [
      "0000100_adapters.safetensors 0001200_adapters.safetensors\n",
      "0000200_adapters.safetensors 0001300_adapters.safetensors\n",
      "0000300_adapters.safetensors 0001400_adapters.safetensors\n",
      "0000400_adapters.safetensors 0001500_adapters.safetensors\n",
      "0000500_adapters.safetensors 0001600_adapters.safetensors\n",
      "0000600_adapters.safetensors 0001700_adapters.safetensors\n",
      "0000700_adapters.safetensors 0001800_adapters.safetensors\n",
      "0000800_adapters.safetensors 0001900_adapters.safetensors\n",
      "0000900_adapters.safetensors 0002000_adapters.safetensors\n",
      "0001000_adapters.safetensors adapters.safetensors\n",
      "0001100_adapters.safetensors\n"
     ]
    }
   ],
   "source": [
    "!ls ../trained_models/adapters2k/"
   ]
  },
  {
   "cell_type": "markdown",
   "id": "2b7e23ee",
   "metadata": {},
   "source": [
    "Next, let's plot the training and validation losses to see how well the adapters fit the data."
   ]
  },
  {
   "cell_type": "code",
   "execution_count": 153,
   "id": "f1ffd638",
   "metadata": {},
   "outputs": [
    {
     "data": {
      "text/plain": [
       "<matplotlib.legend.Legend at 0x30ef45af0>"
      ]
     },
     "execution_count": 153,
     "metadata": {},
     "output_type": "execute_result"
    },
    {
     "data": {
      "image/png": "[encoded data removed]",
      "text/plain": [
       "<Figure size 640x480 with 1 Axes>"
      ]
     },
     "metadata": {},
     "output_type": "display_data"
    }
   ],
   "source": [
    "train_its, train_losses = zip(*metrics.train_losses)\n",
    "val_its, val_losses = zip(*metrics.val_losses)\n",
    "plt.plot(train_its, train_losses, '-o')\n",
    "plt.plot(val_its, val_losses, '-o')\n",
    "plt.xlabel(\"Iteration\")\n",
    "plt.ylabel(\"Loss\")\n",
    "plt.legend(['Train', \"Valid\"])"
   ]
  },
  {
   "cell_type": "markdown",
   "id": "67fbba7f",
   "metadata": {},
   "source": [
    "### Fuse Adapters\n",
    "\n",
    "Sometimes its convenient to fuse the adapters into the base model to create a single adapted model. MLX LM has a fuse script just for that.\n",
    "\n",
    "The adapted weights are: $\\tilde{W} = W + c \\cdot \\mathbf{b}^\\top \\mathbf{a}$. Note, this process can be destructive if the inputs are in low precision and they have very different magnitudes. Tuning the `scale` parameter, $c$, prior to fine-tuning can improve the model performance after fusion.\n",
    "\n",
    "To see more options for fusing the model, including how to upload to HuggingFace [check the documentation](https://github.com/ml-explore/mlx-examples/blob/main/llms/mlx_lm/LORA.md#fuse)."
   ]
  },
  {
   "cell_type": "code",
   "execution_count": 154,
   "id": "37854c9b",
   "metadata": {},
   "outputs": [],
   "source": [
    "# !mlx_lm.fuse --model {model_path}"
   ]
  },
  {
   "cell_type": "markdown",
   "id": "c349707e",
   "metadata": {},
   "source": [
    "Once the adapters are fused, we can rerun the evaluation using the fused model to make sure it worked. By default the fused model will be saved to `lora_fused_model`."
   ]
  },
  {
   "cell_type": "code",
   "execution_count": 155,
   "id": "c1c45e3a",
   "metadata": {},
   "outputs": [],
   "source": [
    "# model, tokenizer = load(\"lora_fused_model\")\n",
    "# num_correct = 0\n",
    "# for prompt, answer in tqdm.tqdm(test_set[:num_test]):\n",
    "#     response = generate(model, tokenizer, prompt, max_tokens=2)\n",
    "#     num_correct += (response==answer)\n",
    "# test_acc = num_correct / num_test\n",
    "# print(f\"Approximate test accuracy {test_acc:.3f}\")"
   ]
  },
  {
   "cell_type": "markdown",
   "id": "d0dc7f4c",
   "metadata": {},
   "source": [
    "### Troubleshooting\n",
    "\n",
    "#### Results\n",
    "\n",
    "To figure out why your LoRA adapters are not working well it's critical to plot both the trianing loss and validation loss over the duration of fine-tuning. There are really only two cases to consider: underfitting or overfitting. And you can figure out which regime you are in based on the above plot.\n",
    "\n",
    "**Underfitting**: The trianing loss is not low enough and the validation loss closely matches the training loss. You could also measure the accuracy on the training set itself for question-answering style tasks like HellaSwag. If you are in this regime you have a few options to improve the results:\n",
    "\n",
    "- Use more adapters. Increase `lora_layers` or adapt more of the linear layers within a given block by setting `lora_parameters[\"keys\"]`.\n",
    "- Use a higher rank. A higher rank means more parameters per adapter.\n",
    "- If you are using dropout, decrease the droupout rate or turn it off entirely.\n",
    "- Sometimes, underfitting issues are really optimization issues. In these cases it can be helpful to tune the learning rate or learning rate schedule.\n",
    "- If none of the above works, try a bigger model. For example, try Phi-3 medium instead of Phi-3 tiny.\n",
    "\n",
    "**Overfitting**: The trianing loss keeps going down but the validation loss stops going down and even starts to go up. If you are in this regime you also have a few options:\n",
    "\n",
    "- The best thing to do is to use more trianing data if you have it.\n",
    "- Contrary to the underfitting regime decreasing the capacity of the model can help. For example, use fewer adapters, a lower LoRA rank, or a smaller model size.\n",
    "- If you are not using dropout, use it.\n",
    "\n",
    "If you find your adapters work well pre-fusion but stop working post-fusion, try tuning the `scale` parameter, $c$, prior to fine-tuning. Typically the adapters have a smaller magnitude than the weights, so using a larger scale helps.\n",
    "\n",
    "#### Memory Use\n",
    "\n",
    "Fine-tuning a large LM with LoRA requires a machine with a decent amount of memory. Here are some tips to reduce memory use should you need to do so. \n",
    "\n",
    "- Try quantization (QLoRA). You can use QLoRA by generating a quantized model with `mlx_lm.convert` and the `-q` flag or by using an already quantized model from HuggingFace.\n",
    "\n",
    "- Try using a smaller batch size. You can set the `batch_size` parameter in the `TrainingArgs` or pass `--batch-size` if you are using the CLI. The default is 4 so setting this to 2 or 1 will reduce memory consumption. Note, this may slow things down a little..\n",
    "\n",
    "- Reduce the number of layers to fine-tune with by setting `lora_layers` to a smaller value or passing `--lora-layers` if you are using the CLI. The default is `16`, so you can try `8` or `4`. This reduces the amount of memory needed for back propagation. It may also reduce the quality of the fine-tuned model and you may need to compensate with a larger `rank`.\n",
    "\n",
    "- Longer examples require more memory. If it makes sense for your data, one thing you can do is break your examples into smaller sequences when making the `train`, `valid`, and `test` data sets.\n",
    "\n",
    "- Gradient checkpointing lets you trade-off memory use (less) for computation (more) by recomputing instead of storing intermediate values needed by the backward pass. You can use gradient checkpointing by passing `grad_checkpoint=True` to the `TrainingArgs` or the `--grad-checkpoint` flag if using the CLI. Gradient checkpointing will be more helpful for larger batch sizes or sequence lengths with smaller or quantized models.\n",
    "\n",
    "### Next Steps\n",
    "\n",
    "- To learn more about MLX check-out the [GitHub repo](http://github.com/ml-explore/mlx) and [documentation](https://ml-explore.github.io/mlx/)\n",
    "- For more on MLX LM check-out the [MLX LM documentation](https://github.com/ml-explore/mlx-examples/tree/main/llms#readme).\n",
    "- Check out the other [MLX Examples](https://github.com/ml-explore/mlx-examples/tree/main). These are great as a learning resource or to use as a starting point for a new project.\n",
    "- We also have an example of [LoRA fine-tuning in MLX Swift](https://github.com/ml-explore/mlx-swift-examples/tree/main/Applications/LoRATrainingExample)."
   ]
  }
 ],
 "metadata": {
  "kernelspec": {
   "display_name": ".venv",
   "language": "python",
   "name": "python3"
  },
  "language_info": {
   "codemirror_mode": {
    "name": "ipython",
    "version": 3
   },
   "file_extension": ".py",
   "mimetype": "text/x-python",
   "name": "python",
   "nbconvert_exporter": "python",
   "pygments_lexer": "ipython3",
   "version": "3.12.5"
  }
 },
 "nbformat": 4,
 "nbformat_minor": 5
}
