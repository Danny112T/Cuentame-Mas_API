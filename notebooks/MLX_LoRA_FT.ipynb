{
 "cells": [
  {
   "cell_type": "markdown",
   "id": "1055c3f3",
   "metadata": {},
   "source": [
    "### LoRA Fine-Tuning with MLX LM\n",
    "\n",
    "In this notebook, we'll walk through how to [LoRA fine-tune](https://arxiv.org/abs/2106.09685) an LLM with MLX LM. We'll use the [HellaSwag](https://rowanzellers.com/hellaswag/) dataset for common sense reasoning as an example. An outline:\n",
    "\n",
    "1. Download the dataset and prepare it in the right format for MLX LM.\n",
    "2. Setup and run LoRA training. We'll show how to capture the training logs and plot some statistics to visualize the performance.\n",
    "3. Evaluate on the test set. We'll compute the final question-answer accuracy of the fine-tuned model.\n",
    "4. Fuse the resulting adapters into the base model and upload to Hugging Face.\n",
    "5. Discuss tips for debugging accuracy and efficiency."
   ]
  },
  {
   "cell_type": "markdown",
   "id": "21397627",
   "metadata": {},
   "source": [
    "### Install dependencies"
   ]
  },
  {
   "cell_type": "code",
   "execution_count": 14,
   "id": "664272fb",
   "metadata": {
    "scrolled": true
   },
   "outputs": [],
   "source": [
    "# pip install mlx-lm\n",
    "# pip install matplotlib\n",
    "# pip install rouge-score\n",
    "# pip install scikit-learn\n",
    "# pip install tqdm\n",
    "# pip install numpy\n",
    "# pip install json\n",
    "# pip install pathlib\n",
    "# pip install transformers\n",
    "# pip install sentencepiece\n",
    "# pip install datasets\n",
    "# pip install torch\n",
    "# pip install mlflow"
   ]
  },
  {
   "cell_type": "markdown",
   "id": "a1131315",
   "metadata": {},
   "source": [
    "### MLFOW CONFIG"
   ]
  },
  {
   "cell_type": "code",
   "execution_count": 15,
   "id": "4d1cf602",
   "metadata": {},
   "outputs": [],
   "source": [
    "import mlflow\n",
    "mlflow.end_run()"
   ]
  },
  {
   "cell_type": "code",
   "execution_count": 16,
   "id": "1d438bc6",
   "metadata": {},
   "outputs": [],
   "source": [
    "#exp_name=\"finetuning_comparativa\"\n",
    "exp_name=\"MLX1.0\"\n",
    "corrida_name=\"MLX-32_16\"\n",
    "# base_model = \"Llama-3.2-1B-Instruct\"\n",
    "# four_bits = True \n",
    "# dataset_path = \"FAQ_All.jsonl\"\n",
    "# dataset_type = \"alpaca_chat.load_qa\"\n",
    "# output_dir = \"../trained_models/adapters/adapters.safetensors\"\n",
    "output_path = \"../trained_models/adapters_32_16/\"\n",
    "output_dir = output_path + 'adapters.safetensors'\n",
    "sequence_len = 2048\n",
    "lora_layers = 16\n",
    "lora_layers_scale = 16.0\n",
    "grad_checkpoint_value = True\n",
    "\n",
    "\n",
    "\n",
    "lora_r = 64\n",
    "# lora_alpha = 16\n",
    "lora_dropout = 0.01\n",
    "# gradient_accumulation_steps = 4\n",
    "batch_size = 16\n",
    "optimizer = \"adamw\"\n",
    "learning_rate_value = 2e-6\n",
    "weight_decay_value = 0.02\n",
    "lr_scheduler = \"linear\"\n",
    "\n",
    "epochs = 32\n",
    "steps = 1024"
   ]
  },
  {
   "cell_type": "code",
   "execution_count": 17,
   "id": "0c0069b0",
   "metadata": {},
   "outputs": [
    {
     "data": {
      "text/plain": [
       "<Experiment: artifact_location='mlflow-artifacts:/880645134898555871', creation_time=1733877767863, experiment_id='880645134898555871', last_update_time=1733877767863, lifecycle_stage='active', name='MLX1.0', tags={}>"
      ]
     },
     "execution_count": 17,
     "metadata": {},
     "output_type": "execute_result"
    }
   ],
   "source": [
    "# mlflow.set_tracking_uri(\"https://4z0r6nts-5000.usw3.devtunnels.ms/\") \n",
    "mlflow.set_tracking_uri(\"http://127.0.0.1:5000/\")\n",
    "mlflow.set_experiment(experiment_name=exp_name)"
   ]
  },
  {
   "cell_type": "markdown",
   "id": "dd27c693",
   "metadata": {},
   "source": [
    "### Preprocess Data\n",
    "We'll start by downloading an already pre-processed version of the HellaSwag dataset from [LLM-Adapters](https://github.com/AGI-Edgerunners/LLM-Adapters)."
   ]
  },
  {
   "cell_type": "code",
   "execution_count": 18,
   "id": "61698208",
   "metadata": {},
   "outputs": [
    {
     "name": "stdout",
     "output_type": "stream",
     "text": [
      "Hello stats: 512 lenght trainging dataset\n",
      "An example:\n",
      "\n",
      "{\n",
      "  \"question\": \"\\u00bfPuedo presentar p\\u00f3liza de fianza en formato electr\\u00f3nico?\",\n",
      "  \"answer\": \"S\\u00ed, es v\\u00e1lido este tipo de garant\\u00eda.\"\n",
      "}\n"
     ]
    }
   ],
   "source": [
    "import json\n",
    "import numpy as np\n",
    "from pathlib import Path\n",
    "\n",
    "\n",
    "save_path = \"./dataset/FAQ_All.jsonl\"\n",
    "\n",
    "with open(save_path, 'r') as file:\n",
    "\tdataset = [json.loads(line) for line in file]\n",
    "\n",
    "print(f\"Hello stats: {len(dataset)} lenght trainging dataset\")\n",
    "print(\"An example:\\n\")\n",
    "print(json.dumps(dataset[0], indent=2))"
   ]
  },
  {
   "cell_type": "markdown",
   "id": "9a514d79",
   "metadata": {},
   "source": [
    "Next, let's split the training set into a training and a validation set. We'll pull out a randomly chosen 10% for validation."
   ]
  },
  {
   "cell_type": "code",
   "execution_count": 19,
   "id": "9b607237",
   "metadata": {},
   "outputs": [],
   "source": [
    "# Seed for reproducibility\n",
    "np.random.seed(43)\n",
    "perm = np.random.permutation(len(dataset))\n",
    "valid_size = int(0.2 * len(dataset))\n",
    "valid_set = [dataset[i] for i in perm[:valid_size]]\n",
    "train_set = [dataset[i] for i in perm[valid_size:]]"
   ]
  },
  {
   "cell_type": "markdown",
   "id": "35c38c4e",
   "metadata": {},
   "source": [
    "Finally, put the data splits in the MLX LM training format. The format simply expects the data to be in a container which supports random access to the individual examples (e.g. a Python `list`):\n",
    "```\n",
    "[\"An example for the model.\", \"Another example for the model.\", ...]\n",
    "```\n",
    "For more details, see the [documentation on supported formats](https://github.com/ml-explore/mlx-examples/blob/main/llms/mlx_lm/LORA.md#Data)."
   ]
  },
  {
   "cell_type": "code",
   "execution_count": 20,
   "id": "ea738f2b",
   "metadata": {},
   "outputs": [],
   "source": [
    "def clean_text(text):\n",
    "    text = text.strip()\n",
    "    text = ' '.join(text.split())\n",
    "    return text\n",
    "\n",
    "def preprocess(dataset):\n",
    "    return [\n",
    "        f\"Question: {clean_text(t['question'])}\\n\"\n",
    "        f\"Answer: {clean_text(t['answer'])}\\n\"\n",
    "        for t in dataset\n",
    "    ]\n",
    "\n",
    "train_set, valid_set = map(preprocess, (train_set, valid_set))"
   ]
  },
  {
   "cell_type": "markdown",
   "id": "b259eb69",
   "metadata": {},
   "source": [
    "### Fine-Tune\n",
    "\n",
    "For fine-tuning, we'll use Microsoft's [Phi-3 mini](https://huggingface.co/microsoft/Phi-3-mini-4k-instruct). At 3.8 billion parameters, Phi-3 mini is a high-quality model that is also fast to fine-tune on most Apple silicon machines. Also, it has a [permissive MIT License](https://huggingface.co/microsoft/Phi-3-mini-4k-instruct/blob/main/LICENSE).\n",
    "\n",
    "First, import all the packages and functions we need."
   ]
  },
  {
   "cell_type": "code",
   "execution_count": 21,
   "id": "c3ff309a",
   "metadata": {},
   "outputs": [],
   "source": [
    "import matplotlib.pyplot as plt\n",
    "import mlx.core as mx\n",
    "import mlx.optimizers as optim\n",
    "from mlx.utils import tree_flatten\n",
    "from mlx_lm.utils import load, generate\n",
    "from mlx_lm.tuner.trainer import train, evaluate, TrainingArgs\n",
    "from mlx_lm.tuner.utils import linear_to_lora_layers\n"
   ]
  },
  {
   "cell_type": "markdown",
   "id": "87628d24",
   "metadata": {},
   "source": [
    "Next, setup the LoRA parameters and make the training arguments. See the [training argument class](https://github.com/ml-explore/mlx-examples/blob/81318ad4a8b2ca5fd1431a42db2b0244d16be851/llms/mlx_lm/tuner/trainer.py#L31-L63) for a more detailed list of training parameters. \n",
    "\n",
    "Recall the LoRA update is $W^\\top \\mathbf{x} + c \\cdot \\mathbf{a} \\mathbf{b}^\\top \\mathbf{x}$ where $\\mathbf{a}$ has shape `(D, rank)`.\n",
    "\n",
    "With that in mind, the LoRA parameters to attend to are:\n",
    "- `lora_layers`: The number of Transformer blocks from the top of the model to adapt.\n",
    "- `rank`: The rank of the low-rank adapters. A larger rank implies more adapter parameters per linear layer.\n",
    "- `scale`: This is the constant $c$ that scales the low-rank update."
   ]
  },
  {
   "cell_type": "code",
   "execution_count": null,
   "id": "f0851dc8",
   "metadata": {},
   "outputs": [],
   "source": [
    "# Make a directory to save the adapter config and weights\n",
    "adapter_path = Path(\"../trained_models/adapters\")\n",
    "adapter_path.mkdir(parents=True, exist_ok=True)\n",
    "\n",
    "lora_config = {\n",
    " \"lora_layers\": lora_layers,\n",
    " \"lora_parameters\": {\n",
    "    \"rank\": lora_r,\n",
    "    \"scale\": lora_layers_scale,\n",
    "    \"dropout\": lora_dropout,\n",
    "    \"epochs\": epochs\n",
    "}}\n",
    "\n",
    "# Save the LoRA config to the adapter path\n",
    "with open(adapter_path / \"adapter_config.json\", \"w\") as fid:\n",
    "    json.dump(lora_config, fid, indent=4)    \n",
    "\n",
    "training_args = TrainingArgs(\n",
    "    adapter_file=output_dir,\n",
    "    iters=steps,\n",
    "    steps_per_eval=50,\n",
    "    batch_size=batch_size,\n",
    "    max_seq_length=sequence_len,\n",
    "    grad_checkpoint=grad_checkpoint_value,\n",
    ")"
   ]
  },
  {
   "cell_type": "markdown",
   "id": "56fefd19",
   "metadata": {},
   "source": [
    "Next, load the Phi-3 mini model. Note this may take a few minutes to download from HuggingFace if you haven't downloaded it before."
   ]
  },
  {
   "cell_type": "code",
   "execution_count": 23,
   "id": "fb0b16f2",
   "metadata": {},
   "outputs": [],
   "source": [
    "model_path = \"../original_models/Llama-3.2-1B-Instruct-bf16\"\n",
    "model, tokenizer = load(model_path)"
   ]
  },
  {
   "cell_type": "markdown",
   "id": "6609c92a",
   "metadata": {},
   "source": [
    "After loading the model, freeze it's parameters so we don't train them. Then convert linear layers to LoRA layers using the MLX LM utility `linear_to_lora_layers`. The adapters in the `LoRA` layers are not frozen, so they will be included in the model's `trainable_parameters`. Check-out the [LoRA layer implementation](https://github.com/ml-explore/mlx-examples/blob/81318ad4a8b2ca5fd1431a42db2b0244d16be851/llms/mlx_lm/tuner/lora.py#L72-L104) to see how it all works.\n",
    "\n",
    "By default, MLX LM only adapts the query, key, and value projection matrices for Phi-3. You can specify the layers to adapt by setting `lora_parameters[\"keys\"]` to a list of layer names. In this case it defaults to `[\"attn.qkv_proj\"]`. "
   ]
  },
  {
   "cell_type": "code",
   "execution_count": 24,
   "id": "50e1ab3a",
   "metadata": {},
   "outputs": [
    {
     "name": "stdout",
     "output_type": "stream",
     "text": [
      "Number of trainable parameters: 6815744\n"
     ]
    }
   ],
   "source": [
    "# Freeze the base model\n",
    "model.freeze()\n",
    "\n",
    "# Convert linear layers to lora layers\n",
    "linear_to_lora_layers(model, lora_config[\"lora_layers\"], lora_config[\"lora_parameters\"])\n",
    "\n",
    "num_train_params = (\n",
    "    sum(v.size for _, v in tree_flatten(model.trainable_parameters()))\n",
    ")\n",
    "print(f\"Number of trainable parameters: {num_train_params}\")"
   ]
  },
  {
   "cell_type": "markdown",
   "id": "db34ee27",
   "metadata": {},
   "source": [
    "### Evaluate Functions\n",
    "\n",
    "The training and validation loss are only part of the story. For HellaSwag, we ultimately care about how good the model is at answering questions. To asses this, let's generate the actual `ending1`, `ending2`, `ending3`, or `ending4` responses with the fine-tuned model and measure the accuracy.\n",
    "\n",
    "First, let's split the last word off of each example in the test set to create a prompt without the answer."
   ]
  },
  {
   "cell_type": "code",
   "execution_count": 25,
   "id": "37e55f6a",
   "metadata": {},
   "outputs": [],
   "source": [
    "import mlx.core as mx\n",
    "import mlx.nn as nn\n",
    "import numpy as np\n",
    "from tqdm import tqdm\n",
    "from rouge_score import rouge_scorer\n",
    "from sklearn.metrics import f1_score\n",
    "from difflib import SequenceMatcher\n",
    "import os\n",
    "\n",
    "def similar(a, b):\n",
    "    return SequenceMatcher(None, a.lower(), b.lower()).ratio() > 0.8\n",
    "\n",
    "def evaluate_model(model, tokenizer, dataset):\n",
    "    model.eval()\n",
    "    all_preds = []\n",
    "    all_labels = []\n",
    "    total_loss = 0.0\n",
    "\n",
    "    # Initialize ROUGE scorer\n",
    "    scorer = rouge_scorer.RougeScorer(['rouge1', 'rouge2', 'rougeL'], use_stemmer=True)\n",
    "    rouge_scores = {'rouge1': [], 'rouge2': [], 'rougeL': []}\n",
    "\n",
    "    # Adjust generation parameters\n",
    "    generation_params = {\n",
    "        \"max_tokens\": 500,\n",
    "        \"top_p\": 0.9,\n",
    "    }\n",
    "    \n",
    "    for example in tqdm(dataset):\n",
    "        # Get prompt and true answer\n",
    "        prompt = example[\"question\"]\n",
    "        true_answer = example[\"answer\"]\n",
    "        \n",
    "        # Generate prediction\n",
    "        response = generate(model, tokenizer, prompt, **generation_params)\n",
    "        \n",
    "        # Store prediction and true label\n",
    "        all_preds.append(response)\n",
    "        all_labels.append(true_answer)\n",
    "        \n",
    "        # Calculate ROUGE scores\n",
    "        scores = scorer.score(true_answer, response)\n",
    "        for key, score in scores.items():\n",
    "            rouge_scores[key].append(score.fmeasure)\n",
    "\n",
    "        # Calculate loss/perplexity\n",
    "        tokens = tokenizer.encode(prompt + true_answer)\n",
    "        tokens = mx.array(tokens)\n",
    "        \n",
    "        # Forward pass\n",
    "        logits = model(tokens[None])[0]\n",
    "        \n",
    "        # Calculate cross entropy loss\n",
    "        targets = tokens[1:]\n",
    "        logits = logits[:-1]\n",
    "        loss = mx.mean(nn.losses.cross_entropy(logits, targets))\n",
    "        total_loss += float(loss)\n",
    "\n",
    "    # Calculate metrics\n",
    "    accuracy = sum(1 for x,y in zip(all_preds, all_labels) if similar(x.strip(), y.strip())) / len(all_preds)\n",
    "    \n",
    "    # Convert predictions and labels to match format for F1\n",
    "    pred_labels = [1 if similar(p.strip(), l.strip()) else 0 for p,l in zip(all_preds, all_labels)]\n",
    "    true_labels = [1] * len(all_labels)\n",
    "    f1 = f1_score(true_labels, pred_labels, average='binary')\n",
    "    \n",
    "    # Calculate average ROUGE scores\n",
    "    avg_rouge_scores = {key: np.mean(scores) for key, scores in rouge_scores.items()}\n",
    "\n",
    "    # Calculate perplexity\n",
    "    avg_loss = total_loss / len(dataset)\n",
    "    perplexity = float(mx.exp(mx.array(avg_loss)))\n",
    "\n",
    "    return accuracy, f1, perplexity, avg_rouge_scores\n",
    "\n",
    "# Load test dataset\n",
    "test_set_path = \"./dataset/All_validation.jsonl\" \n",
    "with open(test_set_path, 'r') as file:\n",
    "    test_set = [json.loads(line) for line in file]\n",
    "\n",
    "# Define number of test samples\n",
    "num_test = len(test_set)\n"
   ]
  },
  {
   "cell_type": "markdown",
   "id": "827d1590",
   "metadata": {},
   "source": [
    "Now we're ready to put it all together and actually train the model. We'll use `Adam` for the optimizer, but you can specify any [optimizer](https://ml-explore.github.io/mlx/build/html/python/optimizers/common_optimizers.html) with any [scheduler](https://ml-explore.github.io/mlx/build/html/python/optimizers/schedulers.html). We also added a custom class to capture the training and validation loss to plot it later."
   ]
  },
  {
   "cell_type": "code",
   "execution_count": 26,
   "id": "984516d3",
   "metadata": {
    "scrolled": true
   },
   "outputs": [
    {
     "name": "stdout",
     "output_type": "stream",
     "text": [
      "Output folder ../trained_models/adapters_32_16/ created\n",
      "Starting training..., iters: 1024\n",
      "Iter 1: Val loss 3.510, Val took 10.813s\n",
      "Iter 10: Train loss 3.462, Learning Rate 2.000e-06, It/sec 0.262, Tokens/sec 317.068, Trained Tokens 12113, Peak mem 14.071 GB\n",
      "Iter 20: Train loss 2.919, Learning Rate 2.000e-06, It/sec 0.246, Tokens/sec 323.350, Trained Tokens 25282, Peak mem 15.698 GB\n",
      "Iter 30: Train loss 2.713, Learning Rate 2.000e-06, It/sec 0.194, Tokens/sec 282.630, Trained Tokens 39872, Peak mem 16.578 GB\n",
      "Iter 40: Train loss 2.527, Learning Rate 2.000e-06, It/sec 0.247, Tokens/sec 330.386, Trained Tokens 53246, Peak mem 16.578 GB\n",
      "Iter 50: Val loss 2.517, Val took 7.540s\n",
      "Iter 50: Train loss 2.527, Learning Rate 2.000e-06, It/sec 4.152, Tokens/sec 5174.722, Trained Tokens 65710, Peak mem 16.578 GB\n",
      "Iter 60: Train loss 2.450, Learning Rate 2.000e-06, It/sec 0.198, Tokens/sec 295.416, Trained Tokens 80617, Peak mem 16.578 GB\n",
      "Iter 70: Train loss 2.308, Learning Rate 2.000e-06, It/sec 0.205, Tokens/sec 262.143, Trained Tokens 93376, Peak mem 16.578 GB\n",
      "Iter 80: Train loss 2.294, Learning Rate 2.000e-06, It/sec 0.251, Tokens/sec 294.369, Trained Tokens 105123, Peak mem 16.578 GB\n",
      "Iter 90: Train loss 2.311, Learning Rate 2.000e-06, It/sec 0.195, Tokens/sec 268.797, Trained Tokens 118941, Peak mem 16.578 GB\n",
      "Iter 100: Val loss 2.391, Val took 7.835s\n",
      "Iter 100: Train loss 2.231, Learning Rate 2.000e-06, It/sec 2.219, Tokens/sec 2769.697, Trained Tokens 131420, Peak mem 16.578 GB\n",
      "Iter 100: Saved adapter weights to ../trained_models/adapters_32_16/adapters.safetensors and ../trained_models/adapters_32_16/0000100_adapters.safetensors.\n",
      "Iter 110: Train loss 2.179, Learning Rate 2.000e-06, It/sec 0.240, Tokens/sec 280.708, Trained Tokens 143120, Peak mem 16.578 GB\n",
      "Iter 120: Train loss 2.207, Learning Rate 2.000e-06, It/sec 0.193, Tokens/sec 275.541, Trained Tokens 157367, Peak mem 16.578 GB\n",
      "Iter 130: Train loss 2.140, Learning Rate 2.000e-06, It/sec 0.226, Tokens/sec 302.004, Trained Tokens 170758, Peak mem 16.578 GB\n",
      "Iter 140: Train loss 2.135, Learning Rate 2.000e-06, It/sec 0.191, Tokens/sec 285.116, Trained Tokens 185666, Peak mem 16.578 GB\n",
      "Iter 150: Val loss 2.325, Val took 7.435s\n",
      "Iter 150: Train loss 2.104, Learning Rate 2.000e-06, It/sec 1.921, Tokens/sec 2201.844, Trained Tokens 197130, Peak mem 16.578 GB\n",
      "Iter 160: Train loss 2.129, Learning Rate 2.000e-06, It/sec 0.170, Tokens/sec 284.991, Trained Tokens 213870, Peak mem 16.578 GB\n",
      "Iter 170: Train loss 2.072, Learning Rate 2.000e-06, It/sec 0.222, Tokens/sec 284.874, Trained Tokens 226705, Peak mem 16.578 GB\n",
      "Iter 180: Train loss 1.937, Learning Rate 2.000e-06, It/sec 0.219, Tokens/sec 253.929, Trained Tokens 238286, Peak mem 16.578 GB\n",
      "Iter 190: Train loss 2.002, Learning Rate 2.000e-06, It/sec 0.283, Tokens/sec 290.805, Trained Tokens 248551, Peak mem 16.578 GB\n",
      "Iter 200: Val loss 2.277, Val took 7.423s\n",
      "Iter 200: Train loss 1.978, Learning Rate 2.000e-06, It/sec 2.656, Tokens/sec 3795.145, Trained Tokens 262840, Peak mem 16.578 GB\n",
      "Iter 200: Saved adapter weights to ../trained_models/adapters_32_16/adapters.safetensors and ../trained_models/adapters_32_16/0000200_adapters.safetensors.\n",
      "Iter 210: Train loss 1.850, Learning Rate 2.000e-06, It/sec 0.243, Tokens/sec 295.517, Trained Tokens 275005, Peak mem 16.578 GB\n",
      "Iter 220: Train loss 1.979, Learning Rate 2.000e-06, It/sec 0.261, Tokens/sec 311.678, Trained Tokens 286934, Peak mem 16.578 GB\n",
      "Iter 230: Train loss 1.916, Learning Rate 2.000e-06, It/sec 0.234, Tokens/sec 317.015, Trained Tokens 300471, Peak mem 16.578 GB\n",
      "Iter 240: Train loss 1.798, Learning Rate 2.000e-06, It/sec 0.264, Tokens/sec 277.336, Trained Tokens 310990, Peak mem 16.578 GB\n",
      "Iter 250: Val loss 2.239, Val took 7.313s\n",
      "Iter 250: Train loss 2.016, Learning Rate 2.000e-06, It/sec 5.115, Tokens/sec 8981.257, Trained Tokens 328550, Peak mem 16.578 GB\n",
      "Iter 260: Train loss 1.765, Learning Rate 2.000e-06, It/sec 0.291, Tokens/sec 313.290, Trained Tokens 339330, Peak mem 16.578 GB\n",
      "Iter 270: Train loss 1.936, Learning Rate 2.000e-06, It/sec 0.196, Tokens/sec 292.413, Trained Tokens 354279, Peak mem 16.578 GB\n",
      "Iter 280: Train loss 1.869, Learning Rate 2.000e-06, It/sec 0.176, Tokens/sec 252.218, Trained Tokens 368586, Peak mem 16.578 GB\n",
      "Iter 290: Train loss 1.767, Learning Rate 2.000e-06, It/sec 0.164, Tokens/sec 231.050, Trained Tokens 382679, Peak mem 16.578 GB\n",
      "Iter 300: Val loss 2.240, Val took 7.368s\n",
      "Iter 300: Train loss 1.718, Learning Rate 2.000e-06, It/sec 2.292, Tokens/sec 2654.267, Trained Tokens 394260, Peak mem 16.578 GB\n",
      "Iter 300: Saved adapter weights to ../trained_models/adapters_32_16/adapters.safetensors and ../trained_models/adapters_32_16/0000300_adapters.safetensors.\n",
      "Iter 310: Train loss 1.932, Learning Rate 2.000e-06, It/sec 0.141, Tokens/sec 235.169, Trained Tokens 410970, Peak mem 16.578 GB\n",
      "Iter 320: Train loss 1.516, Learning Rate 2.000e-06, It/sec 0.307, Tokens/sec 291.236, Trained Tokens 420470, Peak mem 16.578 GB\n",
      "Iter 330: Train loss 1.782, Learning Rate 2.000e-06, It/sec 0.180, Tokens/sec 257.902, Trained Tokens 434784, Peak mem 16.578 GB\n",
      "Iter 340: Train loss 1.695, Learning Rate 2.000e-06, It/sec 0.229, Tokens/sec 268.905, Trained Tokens 446538, Peak mem 16.578 GB\n",
      "Iter 350: Val loss 2.223, Val took 7.005s\n",
      "Iter 350: Train loss 1.723, Learning Rate 2.000e-06, It/sec 5.473, Tokens/sec 7350.795, Trained Tokens 459970, Peak mem 16.578 GB\n",
      "Iter 360: Train loss 1.753, Learning Rate 2.000e-06, It/sec 0.246, Tokens/sec 317.846, Trained Tokens 472904, Peak mem 16.578 GB\n",
      "Iter 370: Train loss 1.731, Learning Rate 2.000e-06, It/sec 0.224, Tokens/sec 307.331, Trained Tokens 486629, Peak mem 16.578 GB\n",
      "Iter 380: Train loss 1.418, Learning Rate 2.000e-06, It/sec 0.252, Tokens/sec 270.927, Trained Tokens 497364, Peak mem 16.578 GB\n",
      "Iter 390: Train loss 1.830, Learning Rate 2.000e-06, It/sec 0.162, Tokens/sec 283.689, Trained Tokens 514912, Peak mem 16.578 GB\n",
      "Iter 400: Val loss 2.237, Val took 8.525s\n",
      "Iter 400: Train loss 1.565, Learning Rate 2.000e-06, It/sec 3.010, Tokens/sec 3241.334, Trained Tokens 525680, Peak mem 16.578 GB\n",
      "Iter 400: Saved adapter weights to ../trained_models/adapters_32_16/adapters.safetensors and ../trained_models/adapters_32_16/0000400_adapters.safetensors.\n",
      "Iter 410: Train loss 1.532, Learning Rate 2.000e-06, It/sec 0.251, Tokens/sec 284.056, Trained Tokens 537003, Peak mem 16.578 GB\n",
      "Iter 420: Train loss 1.593, Learning Rate 2.000e-06, It/sec 0.233, Tokens/sec 291.397, Trained Tokens 549487, Peak mem 16.578 GB\n",
      "Iter 430: Train loss 1.678, Learning Rate 2.000e-06, It/sec 0.186, Tokens/sec 292.067, Trained Tokens 565226, Peak mem 16.578 GB\n",
      "Iter 440: Train loss 1.556, Learning Rate 2.000e-06, It/sec 0.236, Tokens/sec 303.404, Trained Tokens 578072, Peak mem 16.578 GB\n",
      "Iter 450: Val loss 2.221, Val took 6.996s\n",
      "Iter 450: Train loss 1.606, Learning Rate 2.000e-06, It/sec 4.567, Tokens/sec 6082.741, Trained Tokens 591390, Peak mem 16.578 GB\n",
      "Iter 460: Train loss 1.417, Learning Rate 2.000e-06, It/sec 0.280, Tokens/sec 301.685, Trained Tokens 602170, Peak mem 16.578 GB\n",
      "Iter 470: Train loss 1.621, Learning Rate 2.000e-06, It/sec 0.215, Tokens/sec 297.724, Trained Tokens 616012, Peak mem 16.578 GB\n",
      "Iter 480: Train loss 1.642, Learning Rate 2.000e-06, It/sec 0.185, Tokens/sec 285.819, Trained Tokens 631467, Peak mem 16.578 GB\n",
      "Iter 490: Train loss 1.456, Learning Rate 2.000e-06, It/sec 0.235, Tokens/sec 279.350, Trained Tokens 643360, Peak mem 16.578 GB\n",
      "Iter 500: Val loss 2.226, Val took 7.552s\n",
      "Iter 500: Train loss 1.539, Learning Rate 2.000e-06, It/sec 0.633, Tokens/sec 869.321, Trained Tokens 657100, Peak mem 16.578 GB\n",
      "Iter 500: Saved adapter weights to ../trained_models/adapters_32_16/adapters.safetensors and ../trained_models/adapters_32_16/0000500_adapters.safetensors.\n",
      "Iter 510: Train loss 1.574, Learning Rate 2.000e-06, It/sec 0.217, Tokens/sec 289.772, Trained Tokens 670442, Peak mem 16.578 GB\n",
      "Iter 520: Train loss 1.441, Learning Rate 2.000e-06, It/sec 0.195, Tokens/sec 267.617, Trained Tokens 684155, Peak mem 16.578 GB\n",
      "Iter 530: Train loss 1.408, Learning Rate 2.000e-06, It/sec 0.249, Tokens/sec 287.327, Trained Tokens 695711, Peak mem 16.578 GB\n",
      "Iter 540: Train loss 1.436, Learning Rate 2.000e-06, It/sec 0.212, Tokens/sec 280.662, Trained Tokens 708941, Peak mem 16.578 GB\n",
      "Iter 550: Val loss 2.251, Val took 7.387s\n",
      "Iter 550: Train loss 1.528, Learning Rate 2.000e-06, It/sec 1.524, Tokens/sec 2113.797, Trained Tokens 722810, Peak mem 16.578 GB\n",
      "Iter 560: Train loss 1.480, Learning Rate 2.000e-06, It/sec 0.186, Tokens/sec 279.249, Trained Tokens 737790, Peak mem 16.578 GB\n",
      "Iter 570: Train loss 1.361, Learning Rate 2.000e-06, It/sec 0.251, Tokens/sec 309.079, Trained Tokens 750088, Peak mem 16.578 GB\n",
      "Iter 580: Train loss 1.374, Learning Rate 2.000e-06, It/sec 0.264, Tokens/sec 288.982, Trained Tokens 761015, Peak mem 16.578 GB\n",
      "Iter 590: Train loss 1.585, Learning Rate 2.000e-06, It/sec 0.169, Tokens/sec 285.938, Trained Tokens 777980, Peak mem 16.578 GB\n",
      "Iter 600: Val loss 2.288, Val took 8.251s\n",
      "Iter 600: Train loss 1.313, Learning Rate 2.000e-06, It/sec 2.749, Tokens/sec 2897.226, Trained Tokens 788520, Peak mem 16.578 GB\n",
      "Iter 600: Saved adapter weights to ../trained_models/adapters_32_16/adapters.safetensors and ../trained_models/adapters_32_16/0000600_adapters.safetensors.\n",
      "Iter 610: Train loss 1.506, Learning Rate 2.000e-06, It/sec 0.191, Tokens/sec 294.103, Trained Tokens 803936, Peak mem 16.578 GB\n",
      "Iter 620: Train loss 1.334, Learning Rate 2.000e-06, It/sec 0.274, Tokens/sec 315.005, Trained Tokens 815412, Peak mem 16.578 GB\n",
      "Iter 630: Train loss 1.426, Learning Rate 2.000e-06, It/sec 0.181, Tokens/sec 281.599, Trained Tokens 830959, Peak mem 16.578 GB\n",
      "Iter 640: Train loss 1.209, Learning Rate 2.000e-06, It/sec 0.274, Tokens/sec 280.443, Trained Tokens 841208, Peak mem 16.578 GB\n",
      "Iter 650: Val loss 2.309, Val took 7.554s\n",
      "Iter 650: Train loss 1.366, Learning Rate 2.000e-06, It/sec 2.426, Tokens/sec 3159.394, Trained Tokens 854230, Peak mem 16.578 GB\n",
      "Iter 660: Train loss 1.350, Learning Rate 2.000e-06, It/sec 0.227, Tokens/sec 294.264, Trained Tokens 867202, Peak mem 16.578 GB\n",
      "Iter 670: Train loss 1.190, Learning Rate 2.000e-06, It/sec 0.296, Tokens/sec 306.359, Trained Tokens 877540, Peak mem 16.578 GB\n",
      "Iter 680: Train loss 1.388, Learning Rate 2.000e-06, It/sec 0.178, Tokens/sec 283.040, Trained Tokens 893459, Peak mem 16.578 GB\n",
      "Iter 690: Train loss 1.548, Learning Rate 2.000e-06, It/sec 0.164, Tokens/sec 283.646, Trained Tokens 910783, Peak mem 16.578 GB\n",
      "Iter 700: Val loss 2.316, Val took 7.493s\n",
      "Iter 700: Train loss 1.114, Learning Rate 2.000e-06, It/sec 4.972, Tokens/sec 4553.153, Trained Tokens 919940, Peak mem 16.578 GB\n",
      "Iter 700: Saved adapter weights to ../trained_models/adapters_32_16/adapters.safetensors and ../trained_models/adapters_32_16/0000700_adapters.safetensors.\n",
      "Iter 710: Train loss 1.292, Learning Rate 2.000e-06, It/sec 0.200, Tokens/sec 272.187, Trained Tokens 933558, Peak mem 16.578 GB\n",
      "Iter 720: Train loss 1.376, Learning Rate 2.000e-06, It/sec 0.219, Tokens/sec 306.471, Trained Tokens 947543, Peak mem 16.578 GB\n",
      "Iter 730: Train loss 1.208, Learning Rate 2.000e-06, It/sec 0.248, Tokens/sec 302.851, Trained Tokens 959770, Peak mem 16.578 GB\n",
      "Iter 740: Train loss 1.120, Learning Rate 2.000e-06, It/sec 0.275, Tokens/sec 304.109, Trained Tokens 970838, Peak mem 16.578 GB\n",
      "Iter 750: Val loss 2.321, Val took 7.027s\n",
      "Iter 750: Train loss 1.362, Learning Rate 2.000e-06, It/sec 2.440, Tokens/sec 3613.424, Trained Tokens 985650, Peak mem 16.578 GB\n",
      "Iter 760: Train loss 1.385, Learning Rate 2.000e-06, It/sec 0.183, Tokens/sec 305.921, Trained Tokens 1002379, Peak mem 16.578 GB\n",
      "Iter 770: Train loss 1.111, Learning Rate 2.000e-06, It/sec 0.294, Tokens/sec 322.983, Trained Tokens 1013361, Peak mem 16.578 GB\n",
      "Iter 780: Train loss 1.384, Learning Rate 2.000e-06, It/sec 0.230, Tokens/sec 321.115, Trained Tokens 1027331, Peak mem 16.578 GB\n",
      "Iter 790: Train loss 1.067, Learning Rate 2.000e-06, It/sec 0.294, Tokens/sec 326.295, Trained Tokens 1038437, Peak mem 16.578 GB\n",
      "Iter 800: Val loss 2.332, Val took 7.278s\n",
      "Iter 800: Train loss 1.168, Learning Rate 2.000e-06, It/sec 1.639, Tokens/sec 2117.483, Trained Tokens 1051360, Peak mem 16.578 GB\n",
      "Iter 800: Saved adapter weights to ../trained_models/adapters_32_16/adapters.safetensors and ../trained_models/adapters_32_16/0000800_adapters.safetensors.\n",
      "Iter 810: Train loss 1.305, Learning Rate 2.000e-06, It/sec 0.211, Tokens/sec 309.578, Trained Tokens 1066024, Peak mem 16.578 GB\n",
      "Iter 820: Train loss 1.269, Learning Rate 2.000e-06, It/sec 0.196, Tokens/sec 282.615, Trained Tokens 1080464, Peak mem 16.578 GB\n",
      "Iter 830: Train loss 0.883, Learning Rate 2.000e-06, It/sec 0.318, Tokens/sec 263.086, Trained Tokens 1088749, Peak mem 16.578 GB\n",
      "Iter 840: Train loss 1.266, Learning Rate 2.000e-06, It/sec 0.171, Tokens/sec 267.859, Trained Tokens 1104376, Peak mem 16.578 GB\n",
      "Iter 850: Val loss 2.372, Val took 7.557s\n",
      "Iter 850: Train loss 1.185, Learning Rate 2.000e-06, It/sec 5.160, Tokens/sec 6550.658, Trained Tokens 1117070, Peak mem 16.578 GB\n",
      "Iter 860: Train loss 1.237, Learning Rate 2.000e-06, It/sec 0.219, Tokens/sec 295.731, Trained Tokens 1130543, Peak mem 16.578 GB\n",
      "Iter 870: Train loss 1.158, Learning Rate 2.000e-06, It/sec 0.209, Tokens/sec 291.782, Trained Tokens 1144526, Peak mem 16.578 GB\n",
      "Iter 880: Train loss 1.039, Learning Rate 2.000e-06, It/sec 0.272, Tokens/sec 304.178, Trained Tokens 1155696, Peak mem 16.578 GB\n",
      "Iter 890: Train loss 1.041, Learning Rate 2.000e-06, It/sec 0.281, Tokens/sec 302.562, Trained Tokens 1166476, Peak mem 16.578 GB\n",
      "Iter 900: Val loss 2.346, Val took 6.989s\n",
      "Iter 900: Train loss 1.225, Learning Rate 2.000e-06, It/sec 5.442, Tokens/sec 8872.070, Trained Tokens 1182780, Peak mem 16.578 GB\n",
      "Iter 900: Saved adapter weights to ../trained_models/adapters_32_16/adapters.safetensors and ../trained_models/adapters_32_16/0000900_adapters.safetensors.\n",
      "Iter 910: Train loss 1.041, Learning Rate 2.000e-06, It/sec 0.241, Tokens/sec 317.196, Trained Tokens 1195928, Peak mem 16.578 GB\n",
      "Iter 920: Train loss 1.178, Learning Rate 2.000e-06, It/sec 0.201, Tokens/sec 275.410, Trained Tokens 1209621, Peak mem 16.578 GB\n",
      "Iter 930: Train loss 1.124, Learning Rate 2.000e-06, It/sec 0.248, Tokens/sec 315.377, Trained Tokens 1222361, Peak mem 16.578 GB\n",
      "Iter 940: Train loss 0.997, Learning Rate 2.000e-06, It/sec 0.218, Tokens/sec 281.787, Trained Tokens 1235270, Peak mem 16.578 GB\n",
      "Iter 950: Val loss 2.419, Val took 7.487s\n",
      "Iter 950: Train loss 1.157, Learning Rate 2.000e-06, It/sec 2.244, Tokens/sec 2966.935, Trained Tokens 1248490, Peak mem 16.578 GB\n",
      "Iter 960: Train loss 1.049, Learning Rate 2.000e-06, It/sec 0.219, Tokens/sec 276.093, Trained Tokens 1261081, Peak mem 16.578 GB\n",
      "Iter 970: Train loss 1.101, Learning Rate 2.000e-06, It/sec 0.215, Tokens/sec 316.694, Trained Tokens 1275782, Peak mem 16.578 GB\n",
      "Iter 980: Train loss 1.051, Learning Rate 2.000e-06, It/sec 0.238, Tokens/sec 298.268, Trained Tokens 1288328, Peak mem 16.578 GB\n",
      "Iter 990: Train loss 0.797, Learning Rate 2.000e-06, It/sec 0.316, Tokens/sec 308.102, Trained Tokens 1298077, Peak mem 16.578 GB\n",
      "Iter 1000: Val loss 2.407, Val took 7.113s\n",
      "Iter 1000: Train loss 1.302, Learning Rate 2.000e-06, It/sec 2.369, Tokens/sec 3819.424, Trained Tokens 1314200, Peak mem 16.578 GB\n",
      "Iter 1000: Saved adapter weights to ../trained_models/adapters_32_16/adapters.safetensors and ../trained_models/adapters_32_16/0001000_adapters.safetensors.\n",
      "Iter 1010: Train loss 0.961, Learning Rate 2.000e-06, It/sec 0.282, Tokens/sec 318.850, Trained Tokens 1325496, Peak mem 16.578 GB\n",
      "Iter 1020: Train loss 0.960, Learning Rate 2.000e-06, It/sec 0.224, Tokens/sec 279.999, Trained Tokens 1338009, Peak mem 16.578 GB\n",
      "Iter 1024: Val loss 2.503, Val took 7.178s\n",
      "Iter 1024: Train loss 1.552, Learning Rate 2.000e-06, It/sec 1.088, Tokens/sec 938.598, Trained Tokens 1346632, Peak mem 16.578 GB\n",
      "Saved final adapter weights to ../trained_models/adapters_32_16/adapters.safetensors.\n",
      "\n",
      " Starting Evaluation\n",
      "Evaluating model...\n"
     ]
    },
    {
     "name": "stderr",
     "output_type": "stream",
     "text": [
      "  0%|          | 0/103 [00:00<?, ?it/s]huggingface/tokenizers: The current process just got forked, after parallelism has already been used. Disabling parallelism to avoid deadlocks...\n",
      "To disable this warning, you can either:\n",
      "\t- Avoid using `tokenizers` before the fork if possible\n",
      "\t- Explicitly set the environment variable TOKENIZERS_PARALLELISM=(true | false)\n",
      "100%|██████████| 103/103 [08:43<00:00,  5.08s/it]\n"
     ]
    },
    {
     "name": "stdout",
     "output_type": "stream",
     "text": [
      "\n",
      "Results on 103 test samples:\n",
      "Accuracy: 0.039\n",
      "F1 Score: 0.075\n",
      "Perplexity: 11.552\n",
      "\n",
      "ROUGE Scores:\n",
      "rouge1: 0.114\n",
      "rouge2: 0.057\n",
      "rougeL: 0.102\n",
      "🏃 View run MLX-32_16 at: http://127.0.0.1:5000/#/experiments/880645134898555871/runs/15e79c28fbb446fd9ed6f190bd990fea\n",
      "🧪 View experiment at: http://127.0.0.1:5000/#/experiments/880645134898555871\n"
     ]
    }
   ],
   "source": [
    "# Checl if the output folder exists, if not, create it:\n",
    "if not os.path.exists(output_path):\n",
    "    os.makedirs(output_path)\n",
    "    print(f\"Output folder {output_path} created\")\n",
    "else:\n",
    "    print(f\"Output folder {output_path} already exists\")\n",
    "\n",
    "\n",
    "# Put the model in training mode:\n",
    "model.train()\n",
    "\n",
    "# Make the optimizer:\n",
    "if optimizer == \"adam\":\n",
    "    opt = optim.Adam(learning_rate=learning_rate_value)\n",
    "else:\n",
    "    opt = optim.AdamW(learning_rate=learning_rate_value, weight_decay=weight_decay_value)\n",
    "\n",
    "# Make a class to record the training stats:\n",
    "class Metrics:\n",
    "    train_losses = []\n",
    "    val_losses = []\n",
    "    val_accuracies = []\n",
    "\n",
    "    def on_train_loss_report(self, info):\n",
    "        self.train_losses.append((info[\"iteration\"], info[\"train_loss\"]))\n",
    "        try:\n",
    "            mlflow.log_metric(\"train_loss\", info[\"train_loss\"], step=info[\"iteration\"])\n",
    "        except Exception as e:\n",
    "            print(f\"Warning: Could not log train metric to MLflow: {e}\")\n",
    "            \n",
    "    def on_val_loss_report(self, info):\n",
    "        self.val_losses.append((info[\"iteration\"], info[\"val_loss\"]))\n",
    "        self.val_accuracies.append((info[\"iteration\"], info[\"val_loss\"]))\n",
    "        # log validation loss\n",
    "        try:\n",
    "            mlflow.log_metric(\"val_loss\", info[\"val_loss\"], step=info[\"iteration\"])\n",
    "        except Exception as e:\n",
    "            print(f\"Warning: Could not log validation metric to MLflow: {e}\")\n",
    "\n",
    "metrics = Metrics()\n",
    "\n",
    "with mlflow.start_run(run_name=corrida_name):\n",
    "    mlflow.log_params({\n",
    "        \"num_train_epoch\": lora_config[\"lora_parameters\"][\"epochs\"],\n",
    "        \"max_steps\": training_args.iters,\n",
    "        \"lora_r\": lora_config[\"lora_parameters\"][\"rank\"],\n",
    "        \"lora_dropout\":lora_config[\"lora_parameters\"][\"dropout\"],\n",
    "        \"lora_layers\":lora_config[\"lora_layers\"],\n",
    "        \"lora_layeres_scale\":lora_config[\"lora_parameters\"][\"scale\"],\n",
    "        \"batch_size\":training_args.batch_size,\n",
    "        \"optimizer\":optimizer,\n",
    "        \"learning_rate\":learning_rate_value,\n",
    "        \"weight_decay\": weight_decay_value,\n",
    "        \"scheduler\":lr_scheduler\n",
    "    })\n",
    "\n",
    "    # Train model:\n",
    "    train(\n",
    "        model=model,\n",
    "        tokenizer=tokenizer,\n",
    "        args=training_args,\n",
    "        optimizer=opt,\n",
    "        train_dataset=train_set,\n",
    "        val_dataset=valid_set,\n",
    "        training_callback=metrics,\n",
    "    )\n",
    "\n",
    "    print(\"\\n Starting Evaluation\")\n",
    "    # Evaluate model and log metrics in the same run\n",
    "    print(\"Evaluating model...\")\n",
    "    accuracy, f1, perplexity, rouge_scores = evaluate_model(model, tokenizer, test_set[:num_test])\n",
    "\n",
    "    # Log final metrics\n",
    "    mlflow.log_metrics({\n",
    "        \"final_train_loss\": metrics.train_losses[-1][1],\n",
    "        \"final_val_loss\": metrics.val_losses[-1][1],\n",
    "        \"accuracy\": accuracy,\n",
    "        \"f1_score\": f1,\n",
    "        \"perplexity\": perplexity,\n",
    "        \"rouge1\": rouge_scores['rouge1'],\n",
    "        \"rouge2\": rouge_scores['rouge2'],\n",
    "        \"rougeL\": rouge_scores['rougeL']\n",
    "    })\n",
    "\n",
    "    # Print results\n",
    "    print(f\"\\nResults on {num_test} test samples:\")\n",
    "    print(f\"Accuracy: {accuracy:.3f}\")\n",
    "    print(f\"F1 Score: {f1:.3f}\") \n",
    "    print(f\"Perplexity: {perplexity:.3f}\")\n",
    "    print(\"\\nROUGE Scores:\")\n",
    "    for key, score in rouge_scores.items():\n",
    "        print(f\"{key}: {score:.3f}\")\n",
    "\n",
    "mlflow.end_run()"
   ]
  },
  {
   "cell_type": "markdown",
   "id": "b8d043b8",
   "metadata": {},
   "source": [
    "The adapters are saved every 100 iterations along with the final adapters in `adapters.safetensors`."
   ]
  },
  {
   "cell_type": "code",
   "execution_count": 27,
   "id": "ac329358",
   "metadata": {},
   "outputs": [
    {
     "name": "stdout",
     "output_type": "stream",
     "text": [
      "0000100_adapters.safetensors 0001200_adapters.safetensors\n",
      "0000200_adapters.safetensors 0001300_adapters.safetensors\n",
      "0000300_adapters.safetensors 0001400_adapters.safetensors\n",
      "0000400_adapters.safetensors 0001500_adapters.safetensors\n",
      "0000500_adapters.safetensors 0001600_adapters.safetensors\n",
      "0000600_adapters.safetensors 0001700_adapters.safetensors\n",
      "0000700_adapters.safetensors 0001800_adapters.safetensors\n",
      "0000800_adapters.safetensors 0001900_adapters.safetensors\n",
      "0000900_adapters.safetensors 0002000_adapters.safetensors\n",
      "0001000_adapters.safetensors adapters.safetensors\n",
      "0001100_adapters.safetensors\n"
     ]
    },
    {
     "name": "stderr",
     "output_type": "stream",
     "text": [
      "huggingface/tokenizers: The current process just got forked, after parallelism has already been used. Disabling parallelism to avoid deadlocks...\n",
      "To disable this warning, you can either:\n",
      "\t- Avoid using `tokenizers` before the fork if possible\n",
      "\t- Explicitly set the environment variable TOKENIZERS_PARALLELISM=(true | false)\n"
     ]
    }
   ],
   "source": [
    "!ls ../trained_models/adapters2k/"
   ]
  },
  {
   "cell_type": "markdown",
   "id": "2b7e23ee",
   "metadata": {},
   "source": [
    "Next, let's plot the training and validation losses to see how well the adapters fit the data."
   ]
  },
  {
   "cell_type": "code",
   "execution_count": 28,
   "id": "f1ffd638",
   "metadata": {},
   "outputs": [
    {
     "data": {
      "text/plain": [
       "<matplotlib.legend.Legend at 0x3be96b230>"
      ]
     },
     "execution_count": 28,
     "metadata": {},
     "output_type": "execute_result"
    },
    {
     "data": {
      "image/png": "[encoded data removed]",
      "text/plain": [
       "<Figure size 640x480 with 1 Axes>"
      ]
     },
     "metadata": {},
     "output_type": "display_data"
    }
   ],
   "source": [
    "train_its, train_losses = zip(*metrics.train_losses)\n",
    "val_its, val_losses = zip(*metrics.val_losses)\n",
    "plt.plot(train_its, train_losses, '-o')\n",
    "plt.plot(val_its, val_losses, '-o')\n",
    "plt.xlabel(\"Iteration\")\n",
    "plt.ylabel(\"Loss\")\n",
    "plt.legend(['Train', \"Valid\"])"
   ]
  },
  {
   "cell_type": "markdown",
   "id": "67fbba7f",
   "metadata": {},
   "source": [
    "### Fuse Adapters\n",
    "\n",
    "Sometimes its convenient to fuse the adapters into the base model to create a single adapted model. MLX LM has a fuse script just for that.\n",
    "\n",
    "The adapted weights are: $\\tilde{W} = W + c \\cdot \\mathbf{b}^\\top \\mathbf{a}$. Note, this process can be destructive if the inputs are in low precision and they have very different magnitudes. Tuning the `scale` parameter, $c$, prior to fine-tuning can improve the model performance after fusion.\n",
    "\n",
    "To see more options for fusing the model, including how to upload to HuggingFace [check the documentation](https://github.com/ml-explore/mlx-examples/blob/main/llms/mlx_lm/LORA.md#fuse)."
   ]
  },
  {
   "cell_type": "code",
   "execution_count": 29,
   "id": "37854c9b",
   "metadata": {},
   "outputs": [],
   "source": [
    "# !mlx_lm.fuse --model {model_path}"
   ]
  },
  {
   "cell_type": "markdown",
   "id": "c349707e",
   "metadata": {},
   "source": [
    "Once the adapters are fused, we can rerun the evaluation using the fused model to make sure it worked. By default the fused model will be saved to `lora_fused_model`."
   ]
  },
  {
   "cell_type": "code",
   "execution_count": 30,
   "id": "c1c45e3a",
   "metadata": {},
   "outputs": [],
   "source": [
    "# model, tokenizer = load(\"lora_fused_model\")\n",
    "# num_correct = 0\n",
    "# for prompt, answer in tqdm.tqdm(test_set[:num_test]):\n",
    "#     response = generate(model, tokenizer, prompt, max_tokens=2)\n",
    "#     num_correct += (response==answer)\n",
    "# test_acc = num_correct / num_test\n",
    "# print(f\"Approximate test accuracy {test_acc:.3f}\")"
   ]
  },
  {
   "cell_type": "markdown",
   "id": "d0dc7f4c",
   "metadata": {},
   "source": [
    "### Troubleshooting\n",
    "\n",
    "#### Results\n",
    "\n",
    "To figure out why your LoRA adapters are not working well it's critical to plot both the trianing loss and validation loss over the duration of fine-tuning. There are really only two cases to consider: underfitting or overfitting. And you can figure out which regime you are in based on the above plot.\n",
    "\n",
    "**Underfitting**: The trianing loss is not low enough and the validation loss closely matches the training loss. You could also measure the accuracy on the training set itself for question-answering style tasks like HellaSwag. If you are in this regime you have a few options to improve the results:\n",
    "\n",
    "- Use more adapters. Increase `lora_layers` or adapt more of the linear layers within a given block by setting `lora_parameters[\"keys\"]`.\n",
    "- Use a higher rank. A higher rank means more parameters per adapter.\n",
    "- If you are using dropout, decrease the droupout rate or turn it off entirely.\n",
    "- Sometimes, underfitting issues are really optimization issues. In these cases it can be helpful to tune the learning rate or learning rate schedule.\n",
    "- If none of the above works, try a bigger model. For example, try Phi-3 medium instead of Phi-3 tiny.\n",
    "\n",
    "**Overfitting**: The trianing loss keeps going down but the validation loss stops going down and even starts to go up. If you are in this regime you also have a few options:\n",
    "\n",
    "- The best thing to do is to use more trianing data if you have it.\n",
    "- Contrary to the underfitting regime decreasing the capacity of the model can help. For example, use fewer adapters, a lower LoRA rank, or a smaller model size.\n",
    "- If you are not using dropout, use it.\n",
    "\n",
    "If you find your adapters work well pre-fusion but stop working post-fusion, try tuning the `scale` parameter, $c$, prior to fine-tuning. Typically the adapters have a smaller magnitude than the weights, so using a larger scale helps.\n",
    "\n",
    "#### Memory Use\n",
    "\n",
    "Fine-tuning a large LM with LoRA requires a machine with a decent amount of memory. Here are some tips to reduce memory use should you need to do so. \n",
    "\n",
    "- Try quantization (QLoRA). You can use QLoRA by generating a quantized model with `mlx_lm.convert` and the `-q` flag or by using an already quantized model from HuggingFace.\n",
    "\n",
    "- Try using a smaller batch size. You can set the `batch_size` parameter in the `TrainingArgs` or pass `--batch-size` if you are using the CLI. The default is 4 so setting this to 2 or 1 will reduce memory consumption. Note, this may slow things down a little..\n",
    "\n",
    "- Reduce the number of layers to fine-tune with by setting `lora_layers` to a smaller value or passing `--lora-layers` if you are using the CLI. The default is `16`, so you can try `8` or `4`. This reduces the amount of memory needed for back propagation. It may also reduce the quality of the fine-tuned model and you may need to compensate with a larger `rank`.\n",
    "\n",
    "- Longer examples require more memory. If it makes sense for your data, one thing you can do is break your examples into smaller sequences when making the `train`, `valid`, and `test` data sets.\n",
    "\n",
    "- Gradient checkpointing lets you trade-off memory use (less) for computation (more) by recomputing instead of storing intermediate values needed by the backward pass. You can use gradient checkpointing by passing `grad_checkpoint=True` to the `TrainingArgs` or the `--grad-checkpoint` flag if using the CLI. Gradient checkpointing will be more helpful for larger batch sizes or sequence lengths with smaller or quantized models.\n",
    "\n",
    "### Next Steps\n",
    "\n",
    "- To learn more about MLX check-out the [GitHub repo](http://github.com/ml-explore/mlx) and [documentation](https://ml-explore.github.io/mlx/)\n",
    "- For more on MLX LM check-out the [MLX LM documentation](https://github.com/ml-explore/mlx-examples/tree/main/llms#readme).\n",
    "- Check out the other [MLX Examples](https://github.com/ml-explore/mlx-examples/tree/main). These are great as a learning resource or to use as a starting point for a new project.\n",
    "- We also have an example of [LoRA fine-tuning in MLX Swift](https://github.com/ml-explore/mlx-swift-examples/tree/main/Applications/LoRATrainingExample)."
   ]
  }
 ],
 "metadata": {
  "kernelspec": {
   "display_name": ".venv",
   "language": "python",
   "name": "python3"
  },
  "language_info": {
   "codemirror_mode": {
    "name": "ipython",
    "version": 3
   },
   "file_extension": ".py",
   "mimetype": "text/x-python",
   "name": "python",
   "nbconvert_exporter": "python",
   "pygments_lexer": "ipython3",
   "version": "3.12.5"
  }
 },
 "nbformat": 4,
 "nbformat_minor": 5
}
